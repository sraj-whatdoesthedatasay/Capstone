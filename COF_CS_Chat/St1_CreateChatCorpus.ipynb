{
 "cells": [
  {
   "cell_type": "code",
   "execution_count": 52,
   "metadata": {},
   "outputs": [],
   "source": [
    "import os\n",
    "import pandas as pd\n",
    "import numpy as np"
   ]
  },
  {
   "cell_type": "code",
   "execution_count": 102,
   "metadata": {},
   "outputs": [],
   "source": [
    "faq = pd.read_csv('./data/QuestionSet.csv')"
   ]
  },
  {
   "cell_type": "code",
   "execution_count": 103,
   "metadata": {},
   "outputs": [
    {
     "data": {
      "text/plain": [
       "(70, 4)"
      ]
     },
     "execution_count": 103,
     "metadata": {},
     "output_type": "execute_result"
    }
   ],
   "source": [
    "faq.shape"
   ]
  },
  {
   "cell_type": "code",
   "execution_count": 104,
   "metadata": {},
   "outputs": [
    {
     "data": {
      "text/html": [
       "<div>\n",
       "<style scoped>\n",
       "    .dataframe tbody tr th:only-of-type {\n",
       "        vertical-align: middle;\n",
       "    }\n",
       "\n",
       "    .dataframe tbody tr th {\n",
       "        vertical-align: top;\n",
       "    }\n",
       "\n",
       "    .dataframe thead th {\n",
       "        text-align: right;\n",
       "    }\n",
       "</style>\n",
       "<table border=\"1\" class=\"dataframe\">\n",
       "  <thead>\n",
       "    <tr style=\"text-align: right;\">\n",
       "      <th></th>\n",
       "      <th>family</th>\n",
       "      <th>question_main</th>\n",
       "      <th>intent</th>\n",
       "      <th>QuestionWords</th>\n",
       "    </tr>\n",
       "  </thead>\n",
       "  <tbody>\n",
       "    <tr>\n",
       "      <th>0</th>\n",
       "      <td>Applying and account information</td>\n",
       "      <td>What information does Banco Uno® require when ...</td>\n",
       "      <td>Cardapply</td>\n",
       "      <td>what how apply information need card</td>\n",
       "    </tr>\n",
       "    <tr>\n",
       "      <th>1</th>\n",
       "      <td>Applying and account information</td>\n",
       "      <td>Can I add an authorized user to my card?</td>\n",
       "      <td>Authuser</td>\n",
       "      <td>add auth authorized user card</td>\n",
       "    </tr>\n",
       "    <tr>\n",
       "      <th>2</th>\n",
       "      <td>Applying and account information</td>\n",
       "      <td>How can I find out the status of my credit car...</td>\n",
       "      <td>CardAppStatus</td>\n",
       "      <td>find update status  credit card application</td>\n",
       "    </tr>\n",
       "    <tr>\n",
       "      <th>3</th>\n",
       "      <td>Applying and account information</td>\n",
       "      <td>When will I receive my new credit card?</td>\n",
       "      <td>NewCCReceive</td>\n",
       "      <td>when timing receive new card</td>\n",
       "    </tr>\n",
       "    <tr>\n",
       "      <th>4</th>\n",
       "      <td>Applying and account information</td>\n",
       "      <td>How do you apply my payments?</td>\n",
       "      <td>ApplyPayments</td>\n",
       "      <td>apply payments how principal interest</td>\n",
       "    </tr>\n",
       "  </tbody>\n",
       "</table>\n",
       "</div>"
      ],
      "text/plain": [
       "                             family  \\\n",
       "0  Applying and account information   \n",
       "1  Applying and account information   \n",
       "2  Applying and account information   \n",
       "3  Applying and account information   \n",
       "4  Applying and account information   \n",
       "\n",
       "                                       question_main         intent  \\\n",
       "0  What information does Banco Uno® require when ...      Cardapply   \n",
       "1           Can I add an authorized user to my card?       Authuser   \n",
       "2  How can I find out the status of my credit car...  CardAppStatus   \n",
       "3            When will I receive my new credit card?   NewCCReceive   \n",
       "4                      How do you apply my payments?  ApplyPayments   \n",
       "\n",
       "                                 QuestionWords  \n",
       "0         what how apply information need card  \n",
       "1                add auth authorized user card  \n",
       "2  find update status  credit card application  \n",
       "3                 when timing receive new card  \n",
       "4        apply payments how principal interest  "
      ]
     },
     "execution_count": 104,
     "metadata": {},
     "output_type": "execute_result"
    }
   ],
   "source": [
    "faq.head()"
   ]
  },
  {
   "cell_type": "code",
   "execution_count": 105,
   "metadata": {},
   "outputs": [],
   "source": [
    "#Creates a bigger chat corpus from the question words\n",
    "from itertools import permutations\n",
    "\n",
    "newlist_df=[]\n",
    "for index, row in faq.iterrows():\n",
    "    sent = str(row['QuestionWords'])\n",
    "    #sent = str(row['question_main'])\n",
    "    row['q_perm'] = [' '.join(words) for words in permutations(sent.split(), 5)]\n",
    "    #row['q_perm'] = [' '.join(words) for words in permutations(sent.split()) if random.uniform(0,1)>0.2] #Trying to source from questions\n",
    "    newlist_df.append(row)"
   ]
  },
  {
   "cell_type": "code",
   "execution_count": 106,
   "metadata": {},
   "outputs": [],
   "source": [
    "#Create a dataframe from the above list with the list having permutations of the different questions\n",
    "new_df=pd.DataFrame(newlist_df)"
   ]
  },
  {
   "cell_type": "code",
   "execution_count": 107,
   "metadata": {},
   "outputs": [
    {
     "data": {
      "text/plain": [
       "(70, 5)"
      ]
     },
     "execution_count": 107,
     "metadata": {},
     "output_type": "execute_result"
    }
   ],
   "source": [
    "new_df.shape"
   ]
  },
  {
   "cell_type": "code",
   "execution_count": 108,
   "metadata": {},
   "outputs": [],
   "source": [
    "#Creating dataframe with different row for each question\n",
    "a = new_df.q_perm.apply(pd.Series).stack().reset_index(level=1, drop=True).to_frame('q_perm')\n",
    "faq_df = new_df.drop('q_perm', axis=1).join(a).reset_index(drop=True)"
   ]
  },
  {
   "cell_type": "code",
   "execution_count": 109,
   "metadata": {},
   "outputs": [
    {
     "data": {
      "text/plain": [
       "(36615, 5)"
      ]
     },
     "execution_count": 109,
     "metadata": {},
     "output_type": "execute_result"
    }
   ],
   "source": [
    "faq_df.shape"
   ]
  },
  {
   "cell_type": "code",
   "execution_count": 110,
   "metadata": {},
   "outputs": [
    {
     "data": {
      "text/html": [
       "<div>\n",
       "<style scoped>\n",
       "    .dataframe tbody tr th:only-of-type {\n",
       "        vertical-align: middle;\n",
       "    }\n",
       "\n",
       "    .dataframe tbody tr th {\n",
       "        vertical-align: top;\n",
       "    }\n",
       "\n",
       "    .dataframe thead th {\n",
       "        text-align: right;\n",
       "    }\n",
       "</style>\n",
       "<table border=\"1\" class=\"dataframe\">\n",
       "  <thead>\n",
       "    <tr style=\"text-align: right;\">\n",
       "      <th></th>\n",
       "      <th>family</th>\n",
       "      <th>question_main</th>\n",
       "      <th>intent</th>\n",
       "      <th>QuestionWords</th>\n",
       "      <th>q_perm</th>\n",
       "    </tr>\n",
       "  </thead>\n",
       "  <tbody>\n",
       "    <tr>\n",
       "      <th>0</th>\n",
       "      <td>Applying and account information</td>\n",
       "      <td>What information does Banco Uno® require when ...</td>\n",
       "      <td>Cardapply</td>\n",
       "      <td>what how apply information need card</td>\n",
       "      <td>what how apply information need</td>\n",
       "    </tr>\n",
       "    <tr>\n",
       "      <th>1</th>\n",
       "      <td>Applying and account information</td>\n",
       "      <td>What information does Banco Uno® require when ...</td>\n",
       "      <td>Cardapply</td>\n",
       "      <td>what how apply information need card</td>\n",
       "      <td>what how apply information card</td>\n",
       "    </tr>\n",
       "    <tr>\n",
       "      <th>2</th>\n",
       "      <td>Applying and account information</td>\n",
       "      <td>What information does Banco Uno® require when ...</td>\n",
       "      <td>Cardapply</td>\n",
       "      <td>what how apply information need card</td>\n",
       "      <td>what how apply need information</td>\n",
       "    </tr>\n",
       "    <tr>\n",
       "      <th>3</th>\n",
       "      <td>Applying and account information</td>\n",
       "      <td>What information does Banco Uno® require when ...</td>\n",
       "      <td>Cardapply</td>\n",
       "      <td>what how apply information need card</td>\n",
       "      <td>what how apply need card</td>\n",
       "    </tr>\n",
       "    <tr>\n",
       "      <th>4</th>\n",
       "      <td>Applying and account information</td>\n",
       "      <td>What information does Banco Uno® require when ...</td>\n",
       "      <td>Cardapply</td>\n",
       "      <td>what how apply information need card</td>\n",
       "      <td>what how apply card information</td>\n",
       "    </tr>\n",
       "  </tbody>\n",
       "</table>\n",
       "</div>"
      ],
      "text/plain": [
       "                             family  \\\n",
       "0  Applying and account information   \n",
       "1  Applying and account information   \n",
       "2  Applying and account information   \n",
       "3  Applying and account information   \n",
       "4  Applying and account information   \n",
       "\n",
       "                                       question_main     intent  \\\n",
       "0  What information does Banco Uno® require when ...  Cardapply   \n",
       "1  What information does Banco Uno® require when ...  Cardapply   \n",
       "2  What information does Banco Uno® require when ...  Cardapply   \n",
       "3  What information does Banco Uno® require when ...  Cardapply   \n",
       "4  What information does Banco Uno® require when ...  Cardapply   \n",
       "\n",
       "                          QuestionWords                           q_perm  \n",
       "0  what how apply information need card  what how apply information need  \n",
       "1  what how apply information need card  what how apply information card  \n",
       "2  what how apply information need card  what how apply need information  \n",
       "3  what how apply information need card         what how apply need card  \n",
       "4  what how apply information need card  what how apply card information  "
      ]
     },
     "execution_count": 110,
     "metadata": {},
     "output_type": "execute_result"
    }
   ],
   "source": [
    "faq_df.head(5)"
   ]
  },
  {
   "cell_type": "code",
   "execution_count": 111,
   "metadata": {},
   "outputs": [],
   "source": [
    "## Updating with intent for greetings, thanks and bye\n",
    "faq_df['q_perm'] = np.where(faq_df['q_perm'].isnull(),faq_df['question_main'],faq_df['q_perm'])\n"
   ]
  },
  {
   "cell_type": "code",
   "execution_count": 112,
   "metadata": {},
   "outputs": [
    {
     "data": {
      "text/html": [
       "<div>\n",
       "<style scoped>\n",
       "    .dataframe tbody tr th:only-of-type {\n",
       "        vertical-align: middle;\n",
       "    }\n",
       "\n",
       "    .dataframe tbody tr th {\n",
       "        vertical-align: top;\n",
       "    }\n",
       "\n",
       "    .dataframe thead th {\n",
       "        text-align: right;\n",
       "    }\n",
       "</style>\n",
       "<table border=\"1\" class=\"dataframe\">\n",
       "  <thead>\n",
       "    <tr style=\"text-align: right;\">\n",
       "      <th></th>\n",
       "      <th>family</th>\n",
       "      <th>question_main</th>\n",
       "      <th>intent</th>\n",
       "      <th>QuestionWords</th>\n",
       "      <th>q_perm</th>\n",
       "    </tr>\n",
       "  </thead>\n",
       "  <tbody>\n",
       "    <tr>\n",
       "      <th>0</th>\n",
       "      <td>Applying and account information</td>\n",
       "      <td>What information does Banco Uno® require when ...</td>\n",
       "      <td>Cardapply</td>\n",
       "      <td>what how apply information need card</td>\n",
       "      <td>what how apply information need</td>\n",
       "    </tr>\n",
       "    <tr>\n",
       "      <th>1</th>\n",
       "      <td>Applying and account information</td>\n",
       "      <td>What information does Banco Uno® require when ...</td>\n",
       "      <td>Cardapply</td>\n",
       "      <td>what how apply information need card</td>\n",
       "      <td>what how apply information card</td>\n",
       "    </tr>\n",
       "    <tr>\n",
       "      <th>2</th>\n",
       "      <td>Applying and account information</td>\n",
       "      <td>What information does Banco Uno® require when ...</td>\n",
       "      <td>Cardapply</td>\n",
       "      <td>what how apply information need card</td>\n",
       "      <td>what how apply need information</td>\n",
       "    </tr>\n",
       "    <tr>\n",
       "      <th>3</th>\n",
       "      <td>Applying and account information</td>\n",
       "      <td>What information does Banco Uno® require when ...</td>\n",
       "      <td>Cardapply</td>\n",
       "      <td>what how apply information need card</td>\n",
       "      <td>what how apply need card</td>\n",
       "    </tr>\n",
       "    <tr>\n",
       "      <th>4</th>\n",
       "      <td>Applying and account information</td>\n",
       "      <td>What information does Banco Uno® require when ...</td>\n",
       "      <td>Cardapply</td>\n",
       "      <td>what how apply information need card</td>\n",
       "      <td>what how apply card information</td>\n",
       "    </tr>\n",
       "  </tbody>\n",
       "</table>\n",
       "</div>"
      ],
      "text/plain": [
       "                             family  \\\n",
       "0  Applying and account information   \n",
       "1  Applying and account information   \n",
       "2  Applying and account information   \n",
       "3  Applying and account information   \n",
       "4  Applying and account information   \n",
       "\n",
       "                                       question_main     intent  \\\n",
       "0  What information does Banco Uno® require when ...  Cardapply   \n",
       "1  What information does Banco Uno® require when ...  Cardapply   \n",
       "2  What information does Banco Uno® require when ...  Cardapply   \n",
       "3  What information does Banco Uno® require when ...  Cardapply   \n",
       "4  What information does Banco Uno® require when ...  Cardapply   \n",
       "\n",
       "                          QuestionWords                           q_perm  \n",
       "0  what how apply information need card  what how apply information need  \n",
       "1  what how apply information need card  what how apply information card  \n",
       "2  what how apply information need card  what how apply need information  \n",
       "3  what how apply information need card         what how apply need card  \n",
       "4  what how apply information need card  what how apply card information  "
      ]
     },
     "execution_count": 112,
     "metadata": {},
     "output_type": "execute_result"
    }
   ],
   "source": [
    "faq_df.head()"
   ]
  },
  {
   "cell_type": "code",
   "execution_count": 113,
   "metadata": {},
   "outputs": [
    {
     "data": {
      "text/html": [
       "<div>\n",
       "<style scoped>\n",
       "    .dataframe tbody tr th:only-of-type {\n",
       "        vertical-align: middle;\n",
       "    }\n",
       "\n",
       "    .dataframe tbody tr th {\n",
       "        vertical-align: top;\n",
       "    }\n",
       "\n",
       "    .dataframe thead th {\n",
       "        text-align: right;\n",
       "    }\n",
       "</style>\n",
       "<table border=\"1\" class=\"dataframe\">\n",
       "  <thead>\n",
       "    <tr style=\"text-align: right;\">\n",
       "      <th></th>\n",
       "      <th>family</th>\n",
       "      <th>question_main</th>\n",
       "      <th>intent</th>\n",
       "      <th>QuestionWords</th>\n",
       "      <th>q_perm</th>\n",
       "    </tr>\n",
       "  </thead>\n",
       "  <tbody>\n",
       "    <tr>\n",
       "      <th>36600</th>\n",
       "      <td>Greeting</td>\n",
       "      <td>Hi</td>\n",
       "      <td>greeting</td>\n",
       "      <td>Hi</td>\n",
       "      <td>Hi</td>\n",
       "    </tr>\n",
       "    <tr>\n",
       "      <th>36601</th>\n",
       "      <td>Greeting</td>\n",
       "      <td>How are you?</td>\n",
       "      <td>greeting</td>\n",
       "      <td>How are you?</td>\n",
       "      <td>How are you?</td>\n",
       "    </tr>\n",
       "    <tr>\n",
       "      <th>36602</th>\n",
       "      <td>Greeting</td>\n",
       "      <td>Hello</td>\n",
       "      <td>greeting</td>\n",
       "      <td>Hello</td>\n",
       "      <td>Hello</td>\n",
       "    </tr>\n",
       "    <tr>\n",
       "      <th>36603</th>\n",
       "      <td>Greeting</td>\n",
       "      <td>Hola</td>\n",
       "      <td>greeting</td>\n",
       "      <td>Hola</td>\n",
       "      <td>Hola</td>\n",
       "    </tr>\n",
       "    <tr>\n",
       "      <th>36604</th>\n",
       "      <td>Greeting</td>\n",
       "      <td>Hey</td>\n",
       "      <td>greeting</td>\n",
       "      <td>Hey</td>\n",
       "      <td>Hey</td>\n",
       "    </tr>\n",
       "  </tbody>\n",
       "</table>\n",
       "</div>"
      ],
      "text/plain": [
       "         family question_main    intent QuestionWords        q_perm\n",
       "36600  Greeting            Hi  greeting            Hi            Hi\n",
       "36601  Greeting  How are you?  greeting  How are you?  How are you?\n",
       "36602  Greeting         Hello  greeting         Hello         Hello\n",
       "36603  Greeting          Hola  greeting          Hola          Hola\n",
       "36604  Greeting           Hey  greeting           Hey           Hey"
      ]
     },
     "execution_count": 113,
     "metadata": {},
     "output_type": "execute_result"
    }
   ],
   "source": [
    "faq_df[faq_df['intent']=='greeting']"
   ]
  },
  {
   "cell_type": "code",
   "execution_count": 114,
   "metadata": {},
   "outputs": [],
   "source": [
    "#Creating global dataset of recent Kiva loans\n",
    "faq_df.to_csv('./data/ChatCorpus.csv', index=False)"
   ]
  },
  {
   "cell_type": "code",
   "execution_count": null,
   "metadata": {},
   "outputs": [],
   "source": []
  },
  {
   "cell_type": "code",
   "execution_count": null,
   "metadata": {},
   "outputs": [],
   "source": []
  },
  {
   "cell_type": "code",
   "execution_count": null,
   "metadata": {},
   "outputs": [],
   "source": []
  }
 ],
 "metadata": {
  "kernelspec": {
   "display_name": "Python 3",
   "language": "python",
   "name": "python3"
  },
  "language_info": {
   "codemirror_mode": {
    "name": "ipython",
    "version": 3
   },
   "file_extension": ".py",
   "mimetype": "text/x-python",
   "name": "python",
   "nbconvert_exporter": "python",
   "pygments_lexer": "ipython3",
   "version": "3.8.5"
  }
 },
 "nbformat": 4,
 "nbformat_minor": 4
}
