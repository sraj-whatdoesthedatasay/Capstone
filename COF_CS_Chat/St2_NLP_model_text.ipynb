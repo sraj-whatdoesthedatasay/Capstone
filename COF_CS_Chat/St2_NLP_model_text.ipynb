{
 "cells": [
  {
   "cell_type": "markdown",
   "metadata": {},
   "source": [
    "# Reading QuestionSet to build the model"
   ]
  },
  {
   "cell_type": "code",
   "execution_count": 176,
   "metadata": {},
   "outputs": [],
   "source": [
    "import pandas as pd\n",
    "import numpy as np\n",
    "import matplotlib.pyplot as plt\n",
    "import seaborn as sns\n",
    "\n",
    "import nltk\n",
    "from nltk.corpus import stopwords\n",
    "from nltk.sentiment.vader import SentimentIntensityAnalyzer\n",
    "from nltk import FreqDist\n",
    "from nltk.tokenize import RegexpTokenizer, sent_tokenize, word_tokenize\n",
    "from nltk.stem import WordNetLemmatizer\n",
    "from random import sample\n",
    "import string\n",
    "\n",
    "from sklearn.preprocessing import StandardScaler\n",
    "from sklearn.model_selection import train_test_split, GridSearchCV, cross_val_score\n",
    "from sklearn.pipeline import Pipeline\n",
    "from sklearn.linear_model import LogisticRegression\n",
    "from sklearn.metrics import confusion_matrix, ConfusionMatrixDisplay, classification_report, roc_auc_score\n",
    "from sklearn.feature_extraction.text import CountVectorizer, TfidfVectorizer\n",
    "\n",
    "from keras.models import Sequential\n",
    "from keras.layers import Dense, Flatten, Activation, Dropout,  Conv1D, MaxPooling2D, MaxPooling1D\n",
    "from keras.optimizers import SGD\n",
    "\n",
    "import pickle"
   ]
  },
  {
   "cell_type": "code",
   "execution_count": 177,
   "metadata": {},
   "outputs": [],
   "source": [
    "#Read in the Chat Corpus\n",
    "chat = pd.read_csv('./data/ChatCorpus.csv')"
   ]
  },
  {
   "cell_type": "code",
   "execution_count": 178,
   "metadata": {},
   "outputs": [],
   "source": [
    "#Read in the Answer Corpus\n",
    "ans_file = pd.read_csv('./data/IntentAnswers.csv')"
   ]
  },
  {
   "cell_type": "code",
   "execution_count": 179,
   "metadata": {},
   "outputs": [
    {
     "data": {
      "text/html": [
       "<div>\n",
       "<style scoped>\n",
       "    .dataframe tbody tr th:only-of-type {\n",
       "        vertical-align: middle;\n",
       "    }\n",
       "\n",
       "    .dataframe tbody tr th {\n",
       "        vertical-align: top;\n",
       "    }\n",
       "\n",
       "    .dataframe thead th {\n",
       "        text-align: right;\n",
       "    }\n",
       "</style>\n",
       "<table border=\"1\" class=\"dataframe\">\n",
       "  <thead>\n",
       "    <tr style=\"text-align: right;\">\n",
       "      <th></th>\n",
       "      <th>family</th>\n",
       "      <th>question_main</th>\n",
       "      <th>intent</th>\n",
       "      <th>QuestionWords</th>\n",
       "      <th>q_perm</th>\n",
       "    </tr>\n",
       "  </thead>\n",
       "  <tbody>\n",
       "    <tr>\n",
       "      <th>0</th>\n",
       "      <td>Applying and account information</td>\n",
       "      <td>What information does Banco Uno® require when ...</td>\n",
       "      <td>Cardapply</td>\n",
       "      <td>what how apply information need card</td>\n",
       "      <td>what how apply information need</td>\n",
       "    </tr>\n",
       "    <tr>\n",
       "      <th>1</th>\n",
       "      <td>Applying and account information</td>\n",
       "      <td>What information does Banco Uno® require when ...</td>\n",
       "      <td>Cardapply</td>\n",
       "      <td>what how apply information need card</td>\n",
       "      <td>what how apply information card</td>\n",
       "    </tr>\n",
       "  </tbody>\n",
       "</table>\n",
       "</div>"
      ],
      "text/plain": [
       "                             family  \\\n",
       "0  Applying and account information   \n",
       "1  Applying and account information   \n",
       "\n",
       "                                       question_main     intent  \\\n",
       "0  What information does Banco Uno® require when ...  Cardapply   \n",
       "1  What information does Banco Uno® require when ...  Cardapply   \n",
       "\n",
       "                          QuestionWords                           q_perm  \n",
       "0  what how apply information need card  what how apply information need  \n",
       "1  what how apply information need card  what how apply information card  "
      ]
     },
     "execution_count": 179,
     "metadata": {},
     "output_type": "execute_result"
    }
   ],
   "source": [
    "chat.head(2)"
   ]
  },
  {
   "cell_type": "code",
   "execution_count": 180,
   "metadata": {},
   "outputs": [
    {
     "data": {
      "text/html": [
       "<div>\n",
       "<style scoped>\n",
       "    .dataframe tbody tr th:only-of-type {\n",
       "        vertical-align: middle;\n",
       "    }\n",
       "\n",
       "    .dataframe tbody tr th {\n",
       "        vertical-align: top;\n",
       "    }\n",
       "\n",
       "    .dataframe thead th {\n",
       "        text-align: right;\n",
       "    }\n",
       "</style>\n",
       "<table border=\"1\" class=\"dataframe\">\n",
       "  <thead>\n",
       "    <tr style=\"text-align: right;\">\n",
       "      <th></th>\n",
       "      <th>q_perm</th>\n",
       "      <th>intent</th>\n",
       "    </tr>\n",
       "  </thead>\n",
       "  <tbody>\n",
       "    <tr>\n",
       "      <th>21137</th>\n",
       "      <td>answer increase line rent question</td>\n",
       "      <td>clrent</td>\n",
       "    </tr>\n",
       "    <tr>\n",
       "      <th>35754</th>\n",
       "      <td>redeem travel than miles for</td>\n",
       "      <td>rewards9</td>\n",
       "    </tr>\n",
       "    <tr>\n",
       "      <th>1237</th>\n",
       "      <td>credit update card find application</td>\n",
       "      <td>CardAppStatus</td>\n",
       "    </tr>\n",
       "    <tr>\n",
       "      <th>33545</th>\n",
       "      <td>miss don’t earn rewards pay</td>\n",
       "      <td>rewards2</td>\n",
       "    </tr>\n",
       "    <tr>\n",
       "      <th>21655</th>\n",
       "      <td>credit line question increase limit</td>\n",
       "      <td>clspend</td>\n",
       "    </tr>\n",
       "  </tbody>\n",
       "</table>\n",
       "</div>"
      ],
      "text/plain": [
       "                                    q_perm         intent\n",
       "21137   answer increase line rent question         clrent\n",
       "35754         redeem travel than miles for       rewards9\n",
       "1237   credit update card find application  CardAppStatus\n",
       "33545          miss don’t earn rewards pay       rewards2\n",
       "21655  credit line question increase limit        clspend"
      ]
     },
     "execution_count": 180,
     "metadata": {},
     "output_type": "execute_result"
    }
   ],
   "source": [
    "chat[['q_perm', 'intent']].sample(n=5)"
   ]
  },
  {
   "cell_type": "code",
   "execution_count": 181,
   "metadata": {},
   "outputs": [
    {
     "data": {
      "text/html": [
       "<div>\n",
       "<style scoped>\n",
       "    .dataframe tbody tr th:only-of-type {\n",
       "        vertical-align: middle;\n",
       "    }\n",
       "\n",
       "    .dataframe tbody tr th {\n",
       "        vertical-align: top;\n",
       "    }\n",
       "\n",
       "    .dataframe thead th {\n",
       "        text-align: right;\n",
       "    }\n",
       "</style>\n",
       "<table border=\"1\" class=\"dataframe\">\n",
       "  <thead>\n",
       "    <tr style=\"text-align: right;\">\n",
       "      <th></th>\n",
       "      <th>intent</th>\n",
       "      <th>answer</th>\n",
       "    </tr>\n",
       "  </thead>\n",
       "  <tbody>\n",
       "    <tr>\n",
       "      <th>0</th>\n",
       "      <td>Cardapply</td>\n",
       "      <td>You’ll need to provide personal information, i...</td>\n",
       "    </tr>\n",
       "    <tr>\n",
       "      <th>1</th>\n",
       "      <td>Authuser</td>\n",
       "      <td>Yes. You can add authorized users online after...</td>\n",
       "    </tr>\n",
       "    <tr>\n",
       "      <th>2</th>\n",
       "      <td>CardAppStatus</td>\n",
       "      <td>If you apply by phone or online, you will ofte...</td>\n",
       "    </tr>\n",
       "    <tr>\n",
       "      <th>3</th>\n",
       "      <td>NewCCReceive</td>\n",
       "      <td>If you’re approved, you’ll receive your Banco ...</td>\n",
       "    </tr>\n",
       "    <tr>\n",
       "      <th>4</th>\n",
       "      <td>ApplyPayments</td>\n",
       "      <td>We generally apply payments up to your minimum...</td>\n",
       "    </tr>\n",
       "  </tbody>\n",
       "</table>\n",
       "</div>"
      ],
      "text/plain": [
       "          intent                                             answer\n",
       "0      Cardapply  You’ll need to provide personal information, i...\n",
       "1       Authuser  Yes. You can add authorized users online after...\n",
       "2  CardAppStatus  If you apply by phone or online, you will ofte...\n",
       "3   NewCCReceive  If you’re approved, you’ll receive your Banco ...\n",
       "4  ApplyPayments  We generally apply payments up to your minimum..."
      ]
     },
     "execution_count": 181,
     "metadata": {},
     "output_type": "execute_result"
    }
   ],
   "source": [
    "ans_file.head()"
   ]
  },
  {
   "cell_type": "code",
   "execution_count": 182,
   "metadata": {},
   "outputs": [
    {
     "data": {
      "text/html": [
       "<div>\n",
       "<style scoped>\n",
       "    .dataframe tbody tr th:only-of-type {\n",
       "        vertical-align: middle;\n",
       "    }\n",
       "\n",
       "    .dataframe tbody tr th {\n",
       "        vertical-align: top;\n",
       "    }\n",
       "\n",
       "    .dataframe thead th {\n",
       "        text-align: right;\n",
       "    }\n",
       "</style>\n",
       "<table border=\"1\" class=\"dataframe\">\n",
       "  <thead>\n",
       "    <tr style=\"text-align: right;\">\n",
       "      <th></th>\n",
       "      <th>answer</th>\n",
       "    </tr>\n",
       "    <tr>\n",
       "      <th>intent</th>\n",
       "      <th></th>\n",
       "    </tr>\n",
       "  </thead>\n",
       "  <tbody>\n",
       "    <tr>\n",
       "      <th>Cardapply</th>\n",
       "      <td>You’ll need to provide personal information, i...</td>\n",
       "    </tr>\n",
       "    <tr>\n",
       "      <th>Authuser</th>\n",
       "      <td>Yes. You can add authorized users online after...</td>\n",
       "    </tr>\n",
       "    <tr>\n",
       "      <th>CardAppStatus</th>\n",
       "      <td>If you apply by phone or online, you will ofte...</td>\n",
       "    </tr>\n",
       "    <tr>\n",
       "      <th>NewCCReceive</th>\n",
       "      <td>If you’re approved, you’ll receive your Banco ...</td>\n",
       "    </tr>\n",
       "    <tr>\n",
       "      <th>ApplyPayments</th>\n",
       "      <td>We generally apply payments up to your minimum...</td>\n",
       "    </tr>\n",
       "  </tbody>\n",
       "</table>\n",
       "</div>"
      ],
      "text/plain": [
       "                                                          answer\n",
       "intent                                                          \n",
       "Cardapply      You’ll need to provide personal information, i...\n",
       "Authuser       Yes. You can add authorized users online after...\n",
       "CardAppStatus  If you apply by phone or online, you will ofte...\n",
       "NewCCReceive   If you’re approved, you’ll receive your Banco ...\n",
       "ApplyPayments  We generally apply payments up to your minimum..."
      ]
     },
     "execution_count": 182,
     "metadata": {},
     "output_type": "execute_result"
    }
   ],
   "source": [
    "#set Intent as key for answers\n",
    "ans = ans_file.set_index('intent')\n",
    "ans.head()"
   ]
  },
  {
   "cell_type": "code",
   "execution_count": 183,
   "metadata": {},
   "outputs": [
    {
     "data": {
      "text/plain": [
       "'You’ll need to provide personal information, including your:Full name, Social Security number, Date of birth, Physical address, (No P.O. Boxes) Estimated gross annual income, Checking and/or savings account information'"
      ]
     },
     "execution_count": 183,
     "metadata": {},
     "output_type": "execute_result"
    }
   ],
   "source": [
    "ans.loc['Cardapply'][0]"
   ]
  },
  {
   "cell_type": "code",
   "execution_count": 184,
   "metadata": {},
   "outputs": [],
   "source": [
    "# Remove all numbers from text\n",
    "remove_digits = str.maketrans('', '', string.digits)\n",
    "chat['processed_q'] =chat['q_perm'].apply(lambda x: x.translate(remove_digits))\n",
    "\n",
    "# Remove all the special characters\n",
    "exclude = set(string.punctuation) # Set of all special characters\n",
    "\n",
    "chat['processed_q'] = chat['processed_q'].apply(lambda x: ''.join(ch for ch in x if ch not in exclude))\n",
    "\n",
    "\n",
    "# removing dashes \n",
    "chat['processed_q'] = [row.replace('-', '') for row in chat['q_perm']]\n",
    "#chat['processed_q'] = chat['q_perm']"
   ]
  },
  {
   "cell_type": "code",
   "execution_count": 185,
   "metadata": {},
   "outputs": [],
   "source": [
    "# tokenizing all rows\n",
    "tokenizer = RegexpTokenizer('\\w+|\\$[\\d.]+|S+')\n",
    "chat['processed_q'] = [tokenizer.tokenize(row.lower()) for row in chat['processed_q']] "
   ]
  },
  {
   "cell_type": "code",
   "execution_count": 186,
   "metadata": {},
   "outputs": [],
   "source": [
    "# rejoining list of words in each row\n",
    "chat['processed_q'] = [' '.join(row) for row in chat['processed_q']]"
   ]
  },
  {
   "cell_type": "code",
   "execution_count": 187,
   "metadata": {},
   "outputs": [
    {
     "data": {
      "text/html": [
       "<div>\n",
       "<style scoped>\n",
       "    .dataframe tbody tr th:only-of-type {\n",
       "        vertical-align: middle;\n",
       "    }\n",
       "\n",
       "    .dataframe tbody tr th {\n",
       "        vertical-align: top;\n",
       "    }\n",
       "\n",
       "    .dataframe thead th {\n",
       "        text-align: right;\n",
       "    }\n",
       "</style>\n",
       "<table border=\"1\" class=\"dataframe\">\n",
       "  <thead>\n",
       "    <tr style=\"text-align: right;\">\n",
       "      <th></th>\n",
       "      <th>family</th>\n",
       "      <th>question_main</th>\n",
       "      <th>intent</th>\n",
       "      <th>QuestionWords</th>\n",
       "      <th>q_perm</th>\n",
       "      <th>processed_q</th>\n",
       "    </tr>\n",
       "  </thead>\n",
       "  <tbody>\n",
       "    <tr>\n",
       "      <th>0</th>\n",
       "      <td>Applying and account information</td>\n",
       "      <td>What information does Banco Uno® require when ...</td>\n",
       "      <td>Cardapply</td>\n",
       "      <td>what how apply information need card</td>\n",
       "      <td>what how apply information need</td>\n",
       "      <td>what how apply information need</td>\n",
       "    </tr>\n",
       "    <tr>\n",
       "      <th>1</th>\n",
       "      <td>Applying and account information</td>\n",
       "      <td>What information does Banco Uno® require when ...</td>\n",
       "      <td>Cardapply</td>\n",
       "      <td>what how apply information need card</td>\n",
       "      <td>what how apply information card</td>\n",
       "      <td>what how apply information card</td>\n",
       "    </tr>\n",
       "    <tr>\n",
       "      <th>2</th>\n",
       "      <td>Applying and account information</td>\n",
       "      <td>What information does Banco Uno® require when ...</td>\n",
       "      <td>Cardapply</td>\n",
       "      <td>what how apply information need card</td>\n",
       "      <td>what how apply need information</td>\n",
       "      <td>what how apply need information</td>\n",
       "    </tr>\n",
       "    <tr>\n",
       "      <th>3</th>\n",
       "      <td>Applying and account information</td>\n",
       "      <td>What information does Banco Uno® require when ...</td>\n",
       "      <td>Cardapply</td>\n",
       "      <td>what how apply information need card</td>\n",
       "      <td>what how apply need card</td>\n",
       "      <td>what how apply need card</td>\n",
       "    </tr>\n",
       "    <tr>\n",
       "      <th>4</th>\n",
       "      <td>Applying and account information</td>\n",
       "      <td>What information does Banco Uno® require when ...</td>\n",
       "      <td>Cardapply</td>\n",
       "      <td>what how apply information need card</td>\n",
       "      <td>what how apply card information</td>\n",
       "      <td>what how apply card information</td>\n",
       "    </tr>\n",
       "  </tbody>\n",
       "</table>\n",
       "</div>"
      ],
      "text/plain": [
       "                             family  \\\n",
       "0  Applying and account information   \n",
       "1  Applying and account information   \n",
       "2  Applying and account information   \n",
       "3  Applying and account information   \n",
       "4  Applying and account information   \n",
       "\n",
       "                                       question_main     intent  \\\n",
       "0  What information does Banco Uno® require when ...  Cardapply   \n",
       "1  What information does Banco Uno® require when ...  Cardapply   \n",
       "2  What information does Banco Uno® require when ...  Cardapply   \n",
       "3  What information does Banco Uno® require when ...  Cardapply   \n",
       "4  What information does Banco Uno® require when ...  Cardapply   \n",
       "\n",
       "                          QuestionWords                           q_perm  \\\n",
       "0  what how apply information need card  what how apply information need   \n",
       "1  what how apply information need card  what how apply information card   \n",
       "2  what how apply information need card  what how apply need information   \n",
       "3  what how apply information need card         what how apply need card   \n",
       "4  what how apply information need card  what how apply card information   \n",
       "\n",
       "                       processed_q  \n",
       "0  what how apply information need  \n",
       "1  what how apply information card  \n",
       "2  what how apply need information  \n",
       "3         what how apply need card  \n",
       "4  what how apply card information  "
      ]
     },
     "execution_count": 187,
     "metadata": {},
     "output_type": "execute_result"
    }
   ],
   "source": [
    "chat.head(5)"
   ]
  },
  {
   "cell_type": "markdown",
   "metadata": {},
   "source": [
    "### Modeling processed_text"
   ]
  },
  {
   "cell_type": "code",
   "execution_count": 188,
   "metadata": {},
   "outputs": [],
   "source": [
    "#Tokenizing, lemmatizing and joining the words again to feed into the pipeline for modelling\n",
    "\n",
    "def tok_lem_remstop_join(dataset, var):\n",
    "    lemmatizer = WordNetLemmatizer()\n",
    "    dataset_copy = dataset.copy()\n",
    "    new_text = []\n",
    "    for i in dataset_copy[var]:\n",
    "        tokens = word_tokenize(i.lower())\n",
    "        tokens_lem = [lemmatizer.lemmatize(token) for token in tokens]\n",
    "        tokens_filtered= [word for word in tokens_lem if not word in stopwords.words('english')]\n",
    "        #tokens_filtered = tokens_lem\n",
    "        new_review = \" \".join(tokens_filtered)\n",
    "        new_text.append(new_review)\n",
    "    dataset_copy[var] = new_text\n",
    "    return dataset_copy\n"
   ]
  },
  {
   "cell_type": "code",
   "execution_count": 189,
   "metadata": {},
   "outputs": [],
   "source": [
    "#Creating a new column without stopwords\n",
    "chat = tok_lem_remstop_join(chat, 'processed_q')"
   ]
  },
  {
   "cell_type": "code",
   "execution_count": 190,
   "metadata": {},
   "outputs": [
    {
     "data": {
      "text/html": [
       "<div>\n",
       "<style scoped>\n",
       "    .dataframe tbody tr th:only-of-type {\n",
       "        vertical-align: middle;\n",
       "    }\n",
       "\n",
       "    .dataframe tbody tr th {\n",
       "        vertical-align: top;\n",
       "    }\n",
       "\n",
       "    .dataframe thead th {\n",
       "        text-align: right;\n",
       "    }\n",
       "</style>\n",
       "<table border=\"1\" class=\"dataframe\">\n",
       "  <thead>\n",
       "    <tr style=\"text-align: right;\">\n",
       "      <th></th>\n",
       "      <th>family</th>\n",
       "      <th>question_main</th>\n",
       "      <th>intent</th>\n",
       "      <th>QuestionWords</th>\n",
       "      <th>q_perm</th>\n",
       "      <th>processed_q</th>\n",
       "    </tr>\n",
       "  </thead>\n",
       "  <tbody>\n",
       "    <tr>\n",
       "      <th>0</th>\n",
       "      <td>Applying and account information</td>\n",
       "      <td>What information does Banco Uno® require when ...</td>\n",
       "      <td>Cardapply</td>\n",
       "      <td>what how apply information need card</td>\n",
       "      <td>what how apply information need</td>\n",
       "      <td>apply information need</td>\n",
       "    </tr>\n",
       "    <tr>\n",
       "      <th>1</th>\n",
       "      <td>Applying and account information</td>\n",
       "      <td>What information does Banco Uno® require when ...</td>\n",
       "      <td>Cardapply</td>\n",
       "      <td>what how apply information need card</td>\n",
       "      <td>what how apply information card</td>\n",
       "      <td>apply information card</td>\n",
       "    </tr>\n",
       "  </tbody>\n",
       "</table>\n",
       "</div>"
      ],
      "text/plain": [
       "                             family  \\\n",
       "0  Applying and account information   \n",
       "1  Applying and account information   \n",
       "\n",
       "                                       question_main     intent  \\\n",
       "0  What information does Banco Uno® require when ...  Cardapply   \n",
       "1  What information does Banco Uno® require when ...  Cardapply   \n",
       "\n",
       "                          QuestionWords                           q_perm  \\\n",
       "0  what how apply information need card  what how apply information need   \n",
       "1  what how apply information need card  what how apply information card   \n",
       "\n",
       "              processed_q  \n",
       "0  apply information need  \n",
       "1  apply information card  "
      ]
     },
     "execution_count": 190,
     "metadata": {},
     "output_type": "execute_result"
    }
   ],
   "source": [
    "chat.head(2)"
   ]
  },
  {
   "cell_type": "code",
   "execution_count": 191,
   "metadata": {},
   "outputs": [],
   "source": [
    "#Creating multiple rows so that X/y splits can happen and model can train\n",
    "#chat_dup = pd.concat([chat]*10, ignore_index=True)"
   ]
  },
  {
   "cell_type": "code",
   "execution_count": 192,
   "metadata": {},
   "outputs": [],
   "source": [
    "X = chat['processed_q']\n",
    "y = chat['intent']"
   ]
  },
  {
   "cell_type": "code",
   "execution_count": 193,
   "metadata": {},
   "outputs": [
    {
     "data": {
      "text/plain": [
       "(36615,)"
      ]
     },
     "execution_count": 193,
     "metadata": {},
     "output_type": "execute_result"
    }
   ],
   "source": [
    "X.shape"
   ]
  },
  {
   "cell_type": "code",
   "execution_count": 194,
   "metadata": {},
   "outputs": [],
   "source": [
    "### BELOW ROWS ARE TO GET DIFF PROCESSED QUEUES"
   ]
  },
  {
   "cell_type": "markdown",
   "metadata": {},
   "source": [
    "## MODELLING STARTS HERE"
   ]
  },
  {
   "cell_type": "code",
   "execution_count": 195,
   "metadata": {},
   "outputs": [],
   "source": [
    "X_train, X_test, y_train, y_test = train_test_split(X, y, stratify=y, random_state=42)"
   ]
  },
  {
   "cell_type": "code",
   "execution_count": 196,
   "metadata": {},
   "outputs": [],
   "source": [
    "# vectorizing tags w/default params\n",
    "tvec = TfidfVectorizer()\n",
    "X_train_tvec = tvec.fit_transform(X_train)\n",
    "X_test_tvec = tvec.transform(X_test)"
   ]
  },
  {
   "cell_type": "code",
   "execution_count": 197,
   "metadata": {},
   "outputs": [
    {
     "data": {
      "text/plain": [
       "<27461x125 sparse matrix of type '<class 'numpy.float64'>'\n",
       "\twith 112652 stored elements in Compressed Sparse Row format>"
      ]
     },
     "execution_count": 197,
     "metadata": {},
     "output_type": "execute_result"
    }
   ],
   "source": [
    "X_train_tvec"
   ]
  },
  {
   "cell_type": "code",
   "execution_count": 198,
   "metadata": {},
   "outputs": [],
   "source": [
    "# vectorizing w/different tuning to compare models to default\n",
    "tv = TfidfVectorizer(ngram_range=(1,2), max_df=2.0, min_df=5)\n",
    "X_train_tv = tv.fit_transform(X_train)\n",
    "X_test_tv = tv.transform(X_test)"
   ]
  },
  {
   "cell_type": "markdown",
   "metadata": {},
   "source": [
    "#### Logistic Regression"
   ]
  },
  {
   "cell_type": "code",
   "execution_count": 199,
   "metadata": {},
   "outputs": [
    {
     "data": {
      "text/plain": [
       "LogisticRegression(C=100, max_iter=1000, solver='liblinear')"
      ]
     },
     "execution_count": 199,
     "metadata": {},
     "output_type": "execute_result"
    }
   ],
   "source": [
    "# logistic regression w/tuned vectorizer\n",
    "lr = LogisticRegression(max_iter = 1000, solver= 'liblinear', C=100)\n",
    "lr.fit(X_train_tv, y_train)"
   ]
  },
  {
   "cell_type": "code",
   "execution_count": 200,
   "metadata": {},
   "outputs": [
    {
     "name": "stdout",
     "output_type": "stream",
     "text": [
      "Train score: 0.9968682859327774\n",
      "Test score: 0.9954118418177845\n"
     ]
    }
   ],
   "source": [
    "# scoring logistic regression\n",
    "print(f'Train score: {lr.score(X_train_tv, y_train)}')\n",
    "print(f'Test score: {lr.score(X_test_tv, y_test)}')"
   ]
  },
  {
   "cell_type": "code",
   "execution_count": 137,
   "metadata": {},
   "outputs": [
    {
     "data": {
      "text/plain": [
       "875"
      ]
     },
     "execution_count": 137,
     "metadata": {},
     "output_type": "execute_result"
    }
   ],
   "source": [
    "X_train_tv.shape[1]"
   ]
  },
  {
   "cell_type": "markdown",
   "metadata": {},
   "source": [
    "## Preparing Model for Streamlit"
   ]
  },
  {
   "cell_type": "code",
   "execution_count": 159,
   "metadata": {},
   "outputs": [
    {
     "data": {
      "text/plain": [
       "Pipeline(steps=[('tvec',\n",
       "                 TfidfVectorizer(max_df=2.0, min_df=5, ngram_range=(1, 2))),\n",
       "                ('logreg',\n",
       "                 LogisticRegression(C=100, max_iter=1000, random_state=42,\n",
       "                                    solver='liblinear'))])"
      ]
     },
     "execution_count": 159,
     "metadata": {},
     "output_type": "execute_result"
    }
   ],
   "source": [
    "## Preparing Model for Streamlit\n",
    "# creating pipeline for model\n",
    "nlp_pipe = Pipeline([('tvec', TfidfVectorizer(ngram_range=(1,2), max_df=2.0, min_df=5)), \n",
    "                ('logreg', LogisticRegression(max_iter=1000, random_state=42, solver='liblinear', C=100))])\n",
    "# fitting pipeline\n",
    "nlp_pipe.fit(X_train, y_train)\n"
   ]
  },
  {
   "cell_type": "code",
   "execution_count": 160,
   "metadata": {},
   "outputs": [
    {
     "data": {
      "text/plain": [
       "(0.9968682859327774, 0.9954118418177845)"
      ]
     },
     "execution_count": 160,
     "metadata": {},
     "output_type": "execute_result"
    }
   ],
   "source": [
    "# scoring pipeline to make sure scores still accurate\n",
    "nlp_pipe.score(X_train, y_train), nlp_pipe.score(X_test, y_test)\n",
    "\n",
    "\n"
   ]
  },
  {
   "cell_type": "code",
   "execution_count": 161,
   "metadata": {},
   "outputs": [
    {
     "data": {
      "text/plain": [
       "array(['Cardapply'], dtype=object)"
      ]
     },
     "execution_count": 161,
     "metadata": {},
     "output_type": "execute_result"
    }
   ],
   "source": [
    "# testing model on function output and it's performing well\n",
    "input_text='How do i apply for a card?'\n",
    "nlp_pipe.predict([input_text])"
   ]
  },
  {
   "cell_type": "code",
   "execution_count": 163,
   "metadata": {},
   "outputs": [
    {
     "data": {
      "text/plain": [
       "array(['greeting'], dtype=object)"
      ]
     },
     "execution_count": 163,
     "metadata": {},
     "output_type": "execute_result"
    }
   ],
   "source": [
    "# testing model on function output and it's performing well\n",
    "input_text='hello?'\n",
    "nlp_pipe.predict([input_text])"
   ]
  },
  {
   "cell_type": "code",
   "execution_count": 164,
   "metadata": {},
   "outputs": [],
   "source": [
    "# loading model to pickle for usage in streamlit\n",
    "pickle.dump(nlp_pipe, open('./models/cs_model.p', 'wb'))"
   ]
  },
  {
   "cell_type": "code",
   "execution_count": null,
   "metadata": {},
   "outputs": [],
   "source": []
  },
  {
   "cell_type": "code",
   "execution_count": 165,
   "metadata": {},
   "outputs": [],
   "source": [
    "## DOING SOME PREDICTIONS with raw model\n",
    "# function to preprocess user inputs for nlp model\n",
    "def preprocess_nlp(question):\n",
    "    input_list = []\n",
    "    processed_question = question.replace('-', '')\n",
    "    tokenizer = RegexpTokenizer('\\w+|\\$[\\d.]+|S+')\n",
    "    token = tokenizer.tokenize(processed_question.lower())\n",
    "    lemmatizer = WordNetLemmatizer()\n",
    "    lem_token = [lemmatizer.lemmatize(word) for word in token]\n",
    "    joined_text = ' '.join(lem_token)\n",
    "    input_list.append(joined_text)\n",
    "    return input_list"
   ]
  },
  {
   "cell_type": "code",
   "execution_count": 168,
   "metadata": {},
   "outputs": [
    {
     "data": {
      "text/plain": [
       "'You’ll need to provide personal information, including your:Full name, Social Security number, Date of birth, Physical address, (No P.O. Boxes) Estimated gross annual income, Checking and/or savings account information'"
      ]
     },
     "execution_count": 168,
     "metadata": {},
     "output_type": "execute_result"
    }
   ],
   "source": [
    "# processing inputs for nlp model\n",
    "question_text='how do i apply for a card'\n",
    "input_text = preprocess_nlp(question_text)\n",
    "answer_nlp = nlp_pipe.predict(input_text)\n",
    "ans.loc[answer_nlp[0]][0]"
   ]
  },
  {
   "cell_type": "code",
   "execution_count": 169,
   "metadata": {},
   "outputs": [
    {
     "name": "stdout",
     "output_type": "stream",
     "text": [
      "0    hello\n",
      "dtype: object\n"
     ]
    },
    {
     "data": {
      "text/plain": [
       "'Hello from Banco Uno.  How can I help you?'"
      ]
     },
     "execution_count": 169,
     "metadata": {},
     "output_type": "execute_result"
    }
   ],
   "source": [
    "# Doing predictions with pipe\n",
    "question_text='hello'\n",
    "input_text = preprocess_nlp(question_text)\n",
    "ip_series = pd.Series(input_text)\n",
    "print(ip_series)\n",
    "answer_nlp = nlp_pipe.predict(input_text)\n",
    "ans.loc[answer_nlp[0]][0]\n",
    "#ans"
   ]
  },
  {
   "cell_type": "code",
   "execution_count": null,
   "metadata": {},
   "outputs": [],
   "source": []
  },
  {
   "cell_type": "markdown",
   "metadata": {},
   "source": [
    "## Convolution Neural Network model"
   ]
  },
  {
   "cell_type": "code",
   "execution_count": 201,
   "metadata": {},
   "outputs": [],
   "source": [
    "X_train_tv = np.array(X_train_tv)\n",
    "X_test_tv = np.array(X_test_tv)\n",
    "# create train and test lists. X - patterns, Y - intents\n",
    "#X_train = list(X_train_arr)\n",
    "#y_train = list(y_train)\n",
    "#print(\"Training data created\")"
   ]
  },
  {
   "cell_type": "code",
   "execution_count": 204,
   "metadata": {},
   "outputs": [
    {
     "data": {
      "text/plain": [
       "array(<27461x875 sparse matrix of type '<class 'numpy.float64'>'\n",
       "\twith 198187 stored elements in Compressed Sparse Row format>,\n",
       "      dtype=object)"
      ]
     },
     "execution_count": 204,
     "metadata": {},
     "output_type": "execute_result"
    }
   ],
   "source": [
    "X_train_tv"
   ]
  },
  {
   "cell_type": "code",
   "execution_count": 206,
   "metadata": {},
   "outputs": [],
   "source": [
    "model = Sequential()\n",
    "\n",
    "#Perform Convolution\n",
    "model.add(Conv1D(64, 2, activation = 'relu', input_shape=(27461,1)))\n",
    "#Perform maxpooling\n",
    "model.add(MaxPooling1D())\n",
    "\n",
    "#Perform 2nd COnv and pool\n",
    "model.add(Conv1D(64, 2, activation='relu'))\n",
    "model.add(MaxPooling1D())\n",
    "\n",
    "#Conv connected to dense layer that is fully connected\n",
    "model.add(Flatten())\n",
    "model.add(Dense(64, activation='relu'))\n",
    "\n",
    "#Output layer\n",
    "model.add(Dense(1, activation='softmax'))#sigmoid since binary classification"
   ]
  },
  {
   "cell_type": "code",
   "execution_count": 207,
   "metadata": {},
   "outputs": [],
   "source": [
    "\n",
    "# Compile model. Stochastic gradient descent with Nesterov accelerated gradient gives good results for this model\n",
    "#sgd = SGD(lr=0.01, decay=1e-6, momentum=0.9, nesterov=True)\n",
    "model.compile(loss='categorical_crossentropy', optimizer='adam', metrics=['accuracy'])\n",
    "#model.compile(loss='categorical_crossentropy', optimizer=sgd, metrics=['accuracy'])\n"
   ]
  },
  {
   "cell_type": "code",
   "execution_count": null,
   "metadata": {},
   "outputs": [],
   "source": [
    "#fitting and saving the model \n",
    "hist = model.fit((X_train_tv), (y_train), \n",
    "                 validation_data=(X_test_tv, y_test),\n",
    "                 epochs=20, batch_size=20, verbose=1)"
   ]
  },
  {
   "cell_type": "code",
   "execution_count": 68,
   "metadata": {},
   "outputs": [
    {
     "data": {
      "text/plain": [
       "(scipy.sparse.csr.csr_matrix, numpy.ndarray)"
      ]
     },
     "execution_count": 68,
     "metadata": {},
     "output_type": "execute_result"
    }
   ],
   "source": [
    "type(X_train_tv), type(y_train)"
   ]
  },
  {
   "cell_type": "code",
   "execution_count": null,
   "metadata": {},
   "outputs": [],
   "source": [
    "from keras import layers\n",
    "embedding_dim = 100\n",
    "\n",
    "#Source: https://medium.com/saarthi-ai/sentence-classification-using-convolutional-neural-networks-ddad72c7048c#:~:text=Just%20like%20sentence%20classification%20%2C%20CNN,Textual%20Summarization%2C%20Answer%20Selection%20etc.&text=Just%20like%20sentence%20classification%20%2C%20CNN,Textual%20Summarization%2C%20Answer%20Selection%20etc.\n",
    "#X_train = tokenizer.texts_to_sequences(sentences_train)\n",
    "#vocab_size = len(tokenizer.word_index) + 1                          \n",
    "vocab_size=10000\n",
    "maxlen=100\n",
    "y_train = np.array(y_train)\n",
    "\n",
    "model = Sequential()\n",
    "model.add(layers.Embedding(vocab_size, embedding_dim, input_length=maxlen))\n",
    "model.add(layers.Conv1D(128, 5, activation='relu'))\n",
    "model.add(layers.GlobalMaxPooling1D())\n",
    "model.add(layers.Dense(10, activation='relu'))\n",
    "model.add(layers.Dense(1, activation='softmax'))\n",
    "model.compile(optimizer='adam',\n",
    "              loss='binary_crossentropy',\n",
    "              metrics=['accuracy'])\n",
    "history = model.fit(X_train_tv, y_train,\n",
    "                    epochs=10,\n",
    "                    validation_data=(X_test, y_test),\n",
    "                    batch_size=10)"
   ]
  },
  {
   "cell_type": "code",
   "execution_count": 129,
   "metadata": {},
   "outputs": [],
   "source": [
    "import pickle\n",
    "filename = 'finalized_model.sav'\n",
    "pickle.dump(m, open(filename, 'wb'))"
   ]
  },
  {
   "cell_type": "code",
   "execution_count": 130,
   "metadata": {},
   "outputs": [],
   "source": [
    "# load the model from disk\n",
    "loaded_model = pickle.load(open(filename, 'rb'))"
   ]
  },
  {
   "cell_type": "markdown",
   "metadata": {},
   "source": [
    "This was the best logistic regression score with all variations of hypertuning including vectorizer. The score only improved by 1 point over the null model."
   ]
  },
  {
   "cell_type": "code",
   "execution_count": 131,
   "metadata": {},
   "outputs": [],
   "source": [
    "## DOING SOME PREDICTIONS"
   ]
  },
  {
   "cell_type": "code",
   "execution_count": 23,
   "metadata": {},
   "outputs": [],
   "source": [
    "# function to preprocess user inputs for nlp model\n",
    "def preprocess_nlp(question):\n",
    "    input_list = []\n",
    "    processed_question = question.replace('-', '')\n",
    "    tokenizer = RegexpTokenizer('\\w+|\\$[\\d.]+|S+')\n",
    "    token = tokenizer.tokenize(processed_question.lower())\n",
    "    lemmatizer = WordNetLemmatizer()\n",
    "    lem_token = [lemmatizer.lemmatize(word) for word in token]\n",
    "    joined_text = ' '.join(lem_token)\n",
    "    input_list.append(joined_text)\n",
    "    return input_list"
   ]
  },
  {
   "cell_type": "code",
   "execution_count": 75,
   "metadata": {},
   "outputs": [
    {
     "name": "stdout",
     "output_type": "stream",
     "text": [
      "0    hello how do i apply for a card\n",
      "dtype: object\n",
      "(1, 902)\n"
     ]
    },
    {
     "data": {
      "text/plain": [
       "'You’ll need to provide personal information, including your:Full name, Social Security number, Date of birth, Physical address, (No P.O. Boxes) Estimated gross annual income, Checking and/or savings account information'"
      ]
     },
     "execution_count": 75,
     "metadata": {},
     "output_type": "execute_result"
    }
   ],
   "source": [
    "# processing inputs for nlp model\n",
    "question_text='hello, how do i  apply for a card'\n",
    "input_text = preprocess_nlp(question_text)\n",
    "ip_series = pd.Series(input_text)\n",
    "print(ip_series)\n",
    "ip_tvec = tv.transform(ip_series)\n",
    "print(ip_tvec.shape)\n",
    "predicted_status_nlp = lr.predict(ip_tvec)\n",
    "ans.loc[predicted_status_nlp[0]][0]\n",
    "\n",
    "#ans.loc['Cardapply'][0]"
   ]
  }
 ],
 "metadata": {
  "kernelspec": {
   "display_name": "Python 3",
   "language": "python",
   "name": "python3"
  },
  "language_info": {
   "codemirror_mode": {
    "name": "ipython",
    "version": 3
   },
   "file_extension": ".py",
   "mimetype": "text/x-python",
   "name": "python",
   "nbconvert_exporter": "python",
   "pygments_lexer": "ipython3",
   "version": "3.8.5"
  }
 },
 "nbformat": 4,
 "nbformat_minor": 4
}
