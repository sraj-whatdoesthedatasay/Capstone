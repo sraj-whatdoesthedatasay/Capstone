{
 "cells": [
  {
   "cell_type": "markdown",
   "metadata": {},
   "source": [
    "## This script is to read in the English dataset, pre-process it for LSTM models, then build LSTM models on top for training and inferencing and then infer the translation for the English text."
   ]
  },
  {
   "cell_type": "code",
   "execution_count": 1,
   "metadata": {},
   "outputs": [
    {
     "name": "stdin",
     "output_type": "stream",
     "text": [
      "Once deleted, variables cannot be recovered. Proceed (y/[n])?  y\n"
     ]
    }
   ],
   "source": [
    "%reset"
   ]
  },
  {
   "cell_type": "code",
   "execution_count": 1,
   "metadata": {},
   "outputs": [],
   "source": [
    "# Standard imports\n",
    "import pandas as pd\n",
    "import numpy as np\n",
    "import re\n",
    "import pickle\n",
    "import string\n",
    "\n",
    "# Visualization library\n",
    "import seaborn as sns\n",
    "import matplotlib.pyplot as plt\n",
    "\n",
    "# NLP library\n",
    "from nltk.tokenize import word_tokenize\n"
   ]
  },
  {
   "cell_type": "code",
   "execution_count": 2,
   "metadata": {},
   "outputs": [],
   "source": [
    "from numpy.random import seed\n",
    "seed(42)"
   ]
  },
  {
   "cell_type": "code",
   "execution_count": 3,
   "metadata": {},
   "outputs": [],
   "source": [
    "#Reading in the English lines dataset\n",
    "df = pd.read_csv('./data/eng.csv')"
   ]
  },
  {
   "cell_type": "code",
   "execution_count": 4,
   "metadata": {},
   "outputs": [
    {
     "data": {
      "text/html": [
       "<div>\n",
       "<style scoped>\n",
       "    .dataframe tbody tr th:only-of-type {\n",
       "        vertical-align: middle;\n",
       "    }\n",
       "\n",
       "    .dataframe tbody tr th {\n",
       "        vertical-align: top;\n",
       "    }\n",
       "\n",
       "    .dataframe thead th {\n",
       "        text-align: right;\n",
       "    }\n",
       "</style>\n",
       "<table border=\"1\" class=\"dataframe\">\n",
       "  <thead>\n",
       "    <tr style=\"text-align: right;\">\n",
       "      <th></th>\n",
       "      <th>Unnamed: 0</th>\n",
       "      <th>eng</th>\n",
       "      <th>eng_len</th>\n",
       "      <th>word_count</th>\n",
       "      <th>eng_pre</th>\n",
       "      <th>eng_post</th>\n",
       "    </tr>\n",
       "  </thead>\n",
       "  <tbody>\n",
       "    <tr>\n",
       "      <th>0</th>\n",
       "      <td>12267</td>\n",
       "      <td>a dog has four legs</td>\n",
       "      <td>19</td>\n",
       "      <td>5</td>\n",
       "      <td>a dog has</td>\n",
       "      <td>four legs</td>\n",
       "    </tr>\n",
       "    <tr>\n",
       "      <th>1</th>\n",
       "      <td>12268</td>\n",
       "      <td>a lion is an animal</td>\n",
       "      <td>19</td>\n",
       "      <td>5</td>\n",
       "      <td>a lion is</td>\n",
       "      <td>an animal</td>\n",
       "    </tr>\n",
       "    <tr>\n",
       "      <th>2</th>\n",
       "      <td>12269</td>\n",
       "      <td>a noise woke her up</td>\n",
       "      <td>19</td>\n",
       "      <td>5</td>\n",
       "      <td>a noise woke</td>\n",
       "      <td>her up</td>\n",
       "    </tr>\n",
       "    <tr>\n",
       "      <th>3</th>\n",
       "      <td>12270</td>\n",
       "      <td>a nurse wears white</td>\n",
       "      <td>19</td>\n",
       "      <td>4</td>\n",
       "      <td>a nurse</td>\n",
       "      <td>white</td>\n",
       "    </tr>\n",
       "    <tr>\n",
       "      <th>4</th>\n",
       "      <td>12271</td>\n",
       "      <td>a truck hit the dog</td>\n",
       "      <td>19</td>\n",
       "      <td>5</td>\n",
       "      <td>a truck hit</td>\n",
       "      <td>the dog</td>\n",
       "    </tr>\n",
       "  </tbody>\n",
       "</table>\n",
       "</div>"
      ],
      "text/plain": [
       "   Unnamed: 0                  eng  eng_len  word_count       eng_pre  \\\n",
       "0       12267  a dog has four legs       19           5     a dog has   \n",
       "1       12268  a lion is an animal       19           5     a lion is   \n",
       "2       12269  a noise woke her up       19           5  a noise woke   \n",
       "3       12270  a nurse wears white       19           4       a nurse   \n",
       "4       12271  a truck hit the dog       19           5   a truck hit   \n",
       "\n",
       "    eng_post  \n",
       "0  four legs  \n",
       "1  an animal  \n",
       "2     her up  \n",
       "3      white  \n",
       "4    the dog  "
      ]
     },
     "execution_count": 4,
     "metadata": {},
     "output_type": "execute_result"
    }
   ],
   "source": [
    "df.head()"
   ]
  },
  {
   "cell_type": "code",
   "execution_count": 5,
   "metadata": {},
   "outputs": [
    {
     "data": {
      "text/html": [
       "<div>\n",
       "<style scoped>\n",
       "    .dataframe tbody tr th:only-of-type {\n",
       "        vertical-align: middle;\n",
       "    }\n",
       "\n",
       "    .dataframe tbody tr th {\n",
       "        vertical-align: top;\n",
       "    }\n",
       "\n",
       "    .dataframe thead th {\n",
       "        text-align: right;\n",
       "    }\n",
       "</style>\n",
       "<table border=\"1\" class=\"dataframe\">\n",
       "  <thead>\n",
       "    <tr style=\"text-align: right;\">\n",
       "      <th></th>\n",
       "      <th>eng_pre</th>\n",
       "      <th>eng_post</th>\n",
       "    </tr>\n",
       "  </thead>\n",
       "  <tbody>\n",
       "    <tr>\n",
       "      <th>0</th>\n",
       "      <td>a dog has</td>\n",
       "      <td>four legs</td>\n",
       "    </tr>\n",
       "    <tr>\n",
       "      <th>1</th>\n",
       "      <td>a lion is</td>\n",
       "      <td>an animal</td>\n",
       "    </tr>\n",
       "    <tr>\n",
       "      <th>2</th>\n",
       "      <td>a noise woke</td>\n",
       "      <td>her up</td>\n",
       "    </tr>\n",
       "    <tr>\n",
       "      <th>3</th>\n",
       "      <td>a nurse</td>\n",
       "      <td>white</td>\n",
       "    </tr>\n",
       "    <tr>\n",
       "      <th>4</th>\n",
       "      <td>a truck hit</td>\n",
       "      <td>the dog</td>\n",
       "    </tr>\n",
       "  </tbody>\n",
       "</table>\n",
       "</div>"
      ],
      "text/plain": [
       "        eng_pre   eng_post\n",
       "0     a dog has  four legs\n",
       "1     a lion is  an animal\n",
       "2  a noise woke     her up\n",
       "3       a nurse      white\n",
       "4   a truck hit    the dog"
      ]
     },
     "execution_count": 5,
     "metadata": {},
     "output_type": "execute_result"
    }
   ],
   "source": [
    "#Dropping unnecessary columns\n",
    "df.drop(columns=['Unnamed: 0', 'eng', 'eng_len', 'word_count'], inplace=True)\n",
    "df.head()"
   ]
  },
  {
   "cell_type": "code",
   "execution_count": 6,
   "metadata": {},
   "outputs": [
    {
     "data": {
      "text/plain": [
       "[['a dog has', 'four legs'],\n",
       " ['a lion is', 'an animal'],\n",
       " ['a noise woke', 'her up'],\n",
       " ['a nurse', 'white'],\n",
       " ['a truck hit', 'the dog']]"
      ]
     },
     "execution_count": 6,
     "metadata": {},
     "output_type": "execute_result"
    }
   ],
   "source": [
    "#Converting to list for the model\n",
    "data = df.values.tolist()\n",
    "\n",
    "# Examining the first 5 rows\n",
    "data[:5]"
   ]
  },
  {
   "cell_type": "code",
   "execution_count": 7,
   "metadata": {},
   "outputs": [
    {
     "data": {
      "text/plain": [
       "72080"
      ]
     },
     "execution_count": 7,
     "metadata": {},
     "output_type": "execute_result"
    }
   ],
   "source": [
    "len(data)"
   ]
  },
  {
   "cell_type": "markdown",
   "metadata": {},
   "source": [
    "## Modeling is attributed to  https://blog.keras.io/a-ten-minute-introduction-to-sequence-to-sequence-learning-in-keras.html. "
   ]
  },
  {
   "cell_type": "code",
   "execution_count": 8,
   "metadata": {},
   "outputs": [],
   "source": [
    "# Building empty lists to hold sentences\n",
    "input_docs = []\n",
    "target_docs = []\n",
    "# Building empty vocabulary sets\n",
    "input_tokens = set()\n",
    "target_tokens = set()\n",
    "\n",
    "# Setting the number of lines to use. This is mainly limited by memory errors that pop up when trying to optimize later\n",
    "n = 40000\n",
    "\n",
    "for line in data[:n]:\n",
    "    # Defining an input document and a target document\n",
    "    input_doc, target_doc = line[0], line[1]\n",
    "    \n",
    "    # Appending each input sentence to input_docs\n",
    "    input_docs.append(input_doc)\n",
    "    \n",
    "    # Formatting target documents\n",
    "    # Splitting words from punctuation  \n",
    "    target_doc = \" \".join(re.findall(r\"[\\w']+|[^\\s\\w]\", target_doc))\n",
    "    # Adding <START> and <END> tags\n",
    "    target_doc = '<START> ' + target_doc + ' <END>'\n",
    "    # Appending each formated target to target documents\n",
    "    target_docs.append(target_doc)\n",
    "  \n",
    "    # Splitting each sentence into words and adding to vocabulary\n",
    "    for token in re.findall(r\"[\\w']+|[^\\s\\w]\", input_doc):\n",
    "        if token not in input_tokens:\n",
    "            input_tokens.add(token)\n",
    "    \n",
    "    for token in target_doc.split():\n",
    "        if token not in target_tokens:\n",
    "            target_tokens.add(token)"
   ]
  },
  {
   "cell_type": "code",
   "execution_count": 9,
   "metadata": {},
   "outputs": [
    {
     "name": "stdout",
     "output_type": "stream",
     "text": [
      "a dog has\n",
      "<START> four legs <END>\n"
     ]
    }
   ],
   "source": [
    "#Confirm above code worked as expected\n",
    "print(input_docs[0])\n",
    "print(target_docs[0])"
   ]
  },
  {
   "cell_type": "code",
   "execution_count": 10,
   "metadata": {},
   "outputs": [],
   "source": [
    "# Creating a sorted list of all input tokens and target tokens\n",
    "input_tokens = sorted(list(input_tokens))\n",
    "target_tokens = sorted(list(target_tokens))\n",
    "\n",
    "# Saving the length of vocabulary sets as variables. Encoder and Decoder\n",
    "num_encoder_tokens = len(input_tokens)\n",
    "num_decoder_tokens = len(target_tokens)\n",
    "\n",
    "# Finding the maximum length of an input sentence and target sentence\n",
    "max_encoder_seq_length = max([len(re.findall(r\"[\\w']+|[^\\s\\w]\", input_doc)) for input_doc in input_docs])\n",
    "max_decoder_seq_length = max([len(re.findall(r\"[\\w']+|[^\\s\\w]\", target_doc)) for target_doc in target_docs])"
   ]
  },
  {
   "cell_type": "code",
   "execution_count": 13,
   "metadata": {},
   "outputs": [
    {
     "name": "stdout",
     "output_type": "stream",
     "text": [
      "['a', 'aardvark', 'aardvarks', 'abandon', 'abandoned'] ['<END>', '<START>', 'a', 'aardvark', 'aaron']\n"
     ]
    }
   ],
   "source": [
    "print(input_tokens[:5], target_tokens[:5])"
   ]
  },
  {
   "cell_type": "code",
   "execution_count": 14,
   "metadata": {},
   "outputs": [
    {
     "name": "stdout",
     "output_type": "stream",
     "text": [
      "Number of Encoder Tokens: 4872\n",
      "Number of Decoder Tokens: 6030\n",
      "Maximum Encoder Sequence Length: 8\n",
      "Maximum Decoder Sequence Length: 13\n"
     ]
    }
   ],
   "source": [
    "# Print some key dimensions - these need to be used later for enabling model-continued training as well as getting translations\n",
    "print(f'Number of Encoder Tokens: {num_encoder_tokens}')\n",
    "print(f'Number of Decoder Tokens: {num_decoder_tokens}')\n",
    "print(f'Maximum Encoder Sequence Length: {max_encoder_seq_length}')\n",
    "print(f'Maximum Decoder Sequence Length: {max_decoder_seq_length}')"
   ]
  },
  {
   "cell_type": "markdown",
   "metadata": {},
   "source": [
    "# Below code is to create dictionaries between the word and token number for input and target"
   ]
  },
  {
   "cell_type": "code",
   "execution_count": 15,
   "metadata": {},
   "outputs": [],
   "source": [
    "# Creating four dictionaries\n",
    "#Input features dict - is a dictionary with input word as key pointing to token #\n",
    "#Target features dict - is a dictionary with target word as key pointing to token #\n",
    "#Reverse Input features dict - is a dictionary with token# as key pointing to input word\n",
    "#Reverse Target features dict - is a dictionary with token# as key pointing to target word\n",
    "\n",
    "\n",
    "input_features_dict = dict(\n",
    "    [(token, i) for i, token in enumerate(input_tokens)])\n",
    "target_features_dict = dict(\n",
    "    [(token, i) for i, token in enumerate(target_tokens)])\n",
    "\n",
    "# Creating the reverse \n",
    "reverse_input_features_dict = dict(\n",
    "    (i, token) for token, i in input_features_dict.items())\n",
    "reverse_target_features_dict = dict(\n",
    "    (i, token) for token, i in target_features_dict.items())"
   ]
  },
  {
   "cell_type": "markdown",
   "metadata": {},
   "source": [
    "# Storing the dictionaries so it can be used for continued training and inferencing later"
   ]
  },
  {
   "cell_type": "code",
   "execution_count": 16,
   "metadata": {},
   "outputs": [],
   "source": [
    "import pickle\n",
    "\n",
    "with open('./data/rtfd.p', 'wb') as fp:\n",
    "    pickle.dump(reverse_target_features_dict, fp, protocol=pickle.HIGHEST_PROTOCOL)\n",
    "    \n",
    "with open('./data/tfd.p', 'wb') as fp:\n",
    "    pickle.dump(target_features_dict, fp, protocol=pickle.HIGHEST_PROTOCOL)\n",
    "    \n",
    "with open('./data/rifd.p', 'wb') as fp:\n",
    "    pickle.dump(reverse_input_features_dict, fp, protocol=pickle.HIGHEST_PROTOCOL)\n",
    "    \n",
    "with open('./data/ifd.p', 'wb') as fp:\n",
    "    pickle.dump(input_features_dict, fp, protocol=pickle.HIGHEST_PROTOCOL)"
   ]
  },
  {
   "cell_type": "code",
   "execution_count": 17,
   "metadata": {},
   "outputs": [
    {
     "data": {
      "text/plain": [
       "{0: 'a', 1: 'aardvark'}"
      ]
     },
     "execution_count": 17,
     "metadata": {},
     "output_type": "execute_result"
    }
   ],
   "source": [
    "# Checking English index and word dictionary\n",
    "first2pairs = {k: reverse_input_features_dict[k] for k in list(reverse_input_features_dict)[:2]}\n",
    "first2pairs"
   ]
  },
  {
   "cell_type": "code",
   "execution_count": 18,
   "metadata": {},
   "outputs": [
    {
     "data": {
      "text/plain": [
       "{'a': 0, 'aardvark': 1}"
      ]
     },
     "execution_count": 18,
     "metadata": {},
     "output_type": "execute_result"
    }
   ],
   "source": [
    "# Checking English input word and index dictionary\n",
    "first2pairs = {k: input_features_dict[k] for k in list(input_features_dict)[:2]}\n",
    "first2pairs"
   ]
  },
  {
   "cell_type": "code",
   "execution_count": 19,
   "metadata": {},
   "outputs": [
    {
     "data": {
      "text/plain": [
       "{2: 'a', 3: 'aardvark', 4: 'aaron', 5: 'aback', 6: 'abandon', 7: 'abandoned'}"
      ]
     },
     "execution_count": 19,
     "metadata": {},
     "output_type": "execute_result"
    }
   ],
   "source": [
    "# Checking index & English target word dictionary\n",
    "firstfewpairs = {k: reverse_target_features_dict[k] for k in list(reverse_target_features_dict)[2:8]}\n",
    "firstfewpairs"
   ]
  },
  {
   "cell_type": "code",
   "execution_count": 20,
   "metadata": {},
   "outputs": [
    {
     "data": {
      "text/plain": [
       "{'a': 2, 'aardvark': 3, 'aaron': 4, 'aback': 5, 'abandon': 6, 'abandoned': 7}"
      ]
     },
     "execution_count": 20,
     "metadata": {},
     "output_type": "execute_result"
    }
   ],
   "source": [
    "# Checking English target word and index dictionary\n",
    "firstfewpairs = {k: target_features_dict[k] for k in list(target_features_dict)[2:8]}\n",
    "firstfewpairs"
   ]
  },
  {
   "cell_type": "code",
   "execution_count": 21,
   "metadata": {},
   "outputs": [],
   "source": [
    "# Creating empty matricies for input data\n",
    "encoder_input_data = np.zeros(\n",
    "    (len(input_docs), max_encoder_seq_length, num_encoder_tokens),\n",
    "    dtype='float32')\n",
    "decoder_input_data = np.zeros(\n",
    "    (len(input_docs), max_decoder_seq_length, num_decoder_tokens),\n",
    "    dtype='float32')\n",
    "decoder_target_data = np.zeros(\n",
    "    (len(input_docs), max_decoder_seq_length, num_decoder_tokens),\n",
    "    dtype='float32')"
   ]
  },
  {
   "cell_type": "code",
   "execution_count": 22,
   "metadata": {},
   "outputs": [
    {
     "name": "stdout",
     "output_type": "stream",
     "text": [
      "Encoder Input Data Shape: (40000, 8, 4872)\n",
      "Decoder Input Data Shape: (40000, 13, 6030)\n",
      "Decoder Target Data Shape: (40000, 13, 6030)\n"
     ]
    }
   ],
   "source": [
    "print(f'Encoder Input Data Shape: {encoder_input_data.shape}')\n",
    "print(f'Decoder Input Data Shape: {decoder_input_data.shape}')\n",
    "print(f'Decoder Target Data Shape: {decoder_target_data.shape}')"
   ]
  },
  {
   "cell_type": "code",
   "execution_count": 20,
   "metadata": {},
   "outputs": [],
   "source": [
    "# This block of code sets up our data for input to the neural net.\n",
    "\n",
    "for line, (input_doc, target_doc) in enumerate(zip(input_docs, target_docs)):\n",
    "\n",
    "    for timestep, token in enumerate(re.findall(r\"[\\w']+|[^\\s\\w]\", input_doc)):\n",
    "        # Assigning 1.0 for the current line, timestep, & word in encoder_input_data:\n",
    "        encoder_input_data[line, timestep, input_features_dict[token]] = 1.0\n",
    "        # Potential Conditional Statement\n",
    "\n",
    "    for timestep, token in enumerate(target_doc.split()):\n",
    "        # Assigning 1.0 for same in decoder_input_data\n",
    "        decoder_input_data[line, timestep, target_features_dict[token]] = 1.0\n",
    "        if timestep > 0:\n",
    "            \n",
    "            # Setting the decoder target data for 1 previous timestep\n",
    "            decoder_target_data[line, timestep - 1, target_features_dict[token]] = 1.0"
   ]
  },
  {
   "cell_type": "code",
   "execution_count": 21,
   "metadata": {},
   "outputs": [
    {
     "data": {
      "text/plain": [
       "151"
      ]
     },
     "execution_count": 21,
     "metadata": {},
     "output_type": "execute_result"
    }
   ],
   "source": [
    "#Checking sample word in matrix\n",
    "np.argmax(encoder_input_data[10])"
   ]
  },
  {
   "cell_type": "code",
   "execution_count": 22,
   "metadata": {},
   "outputs": [
    {
     "data": {
      "text/plain": [
       "'aluminum'"
      ]
     },
     "execution_count": 22,
     "metadata": {},
     "output_type": "execute_result"
    }
   ],
   "source": [
    "#Confirming word was read correctly\n",
    "reverse_input_features_dict[151]"
   ]
  },
  {
   "cell_type": "code",
   "execution_count": 23,
   "metadata": {},
   "outputs": [
    {
     "name": "stdout",
     "output_type": "stream",
     "text": [
      "4872 6030 8 13\n"
     ]
    }
   ],
   "source": [
    "print(num_encoder_tokens, num_decoder_tokens, max_encoder_seq_length, max_decoder_seq_length)"
   ]
  },
  {
   "cell_type": "markdown",
   "metadata": {},
   "source": [
    "## LSTM MODEL BUILD TO START FROM HERE"
   ]
  },
  {
   "cell_type": "code",
   "execution_count": 24,
   "metadata": {},
   "outputs": [],
   "source": [
    "import tensorflow as tf\n",
    "from tensorflow import keras\n",
    "from tensorflow.keras.layers import Input, LSTM, Dense, Masking\n",
    "from tensorflow.keras.models import Model, save_model\n",
    "from tensorflow.keras.callbacks import EarlyStopping, ModelCheckpoint\n",
    "\n",
    "from tensorflow.keras.backend import manual_variable_initialization #was added to ensure model can be loaded correctly later\n",
    "manual_variable_initialization(True)\n",
    "\n",
    "import os"
   ]
  },
  {
   "cell_type": "code",
   "execution_count": 25,
   "metadata": {},
   "outputs": [],
   "source": [
    "tf.random.set_seed(42)"
   ]
  },
  {
   "cell_type": "markdown",
   "metadata": {},
   "source": [
    "## Defining the model Structure"
   ]
  },
  {
   "cell_type": "code",
   "execution_count": 26,
   "metadata": {},
   "outputs": [],
   "source": [
    "#Defining the model structure\n",
    "latent_dim = 256 ### Would have liked to increase this, but memory and run-time issues caused me to cap\n",
    "\n",
    "# Encoder training setup\n",
    "encoder_inputs = Input(shape=(None, num_encoder_tokens))\n",
    "\n",
    "encoder_lstm = LSTM(latent_dim, return_state=True)\n",
    "encoder_outputs, state_h, state_c = encoder_lstm(encoder_inputs) \n",
    "encoder_states = [state_h, state_c]\n",
    "\n",
    "# Decoder training setup:\n",
    "decoder_inputs = Input(shape=(None, num_decoder_tokens))\n",
    "decoder_lstm = LSTM(latent_dim, return_sequences=True, return_state=True)\n",
    "decoder_outputs,_ ,_ = decoder_lstm(decoder_inputs, initial_state=encoder_states)\n",
    "decoder_dense = Dense(num_decoder_tokens, activation='softmax')\n",
    "decoder_outputs = decoder_dense(decoder_outputs)"
   ]
  },
  {
   "cell_type": "code",
   "execution_count": 27,
   "metadata": {},
   "outputs": [
    {
     "name": "stdout",
     "output_type": "stream",
     "text": [
      "WARNING:tensorflow:`period` argument is deprecated. Please use `save_freq` to specify the frequency in number of batches seen.\n",
      "Epoch 1/55\n",
      "250/250 [==============================] - 148s 575ms/step - loss: 1.4291 - accuracy: 0.8106 - val_loss: 1.9250 - val_accuracy: 0.7462\n",
      "Epoch 2/55\n",
      "250/250 [==============================] - 140s 558ms/step - loss: 1.3350 - accuracy: 0.8310 - val_loss: 1.9127 - val_accuracy: 0.7537\n",
      "Epoch 3/55\n",
      "250/250 [==============================] - 138s 552ms/step - loss: 1.3165 - accuracy: 0.8350 - val_loss: 1.8967 - val_accuracy: 0.7555\n",
      "Epoch 4/55\n",
      "250/250 [==============================] - 139s 558ms/step - loss: 1.3042 - accuracy: 0.8363 - val_loss: 1.8798 - val_accuracy: 0.7558\n",
      "Epoch 5/55\n",
      "250/250 [==============================] - 139s 557ms/step - loss: 1.2908 - accuracy: 0.8373 - val_loss: 1.8648 - val_accuracy: 0.7572\n",
      "Epoch 6/55\n",
      "250/250 [==============================] - 139s 556ms/step - loss: 1.2830 - accuracy: 0.8376 - val_loss: 1.8472 - val_accuracy: 0.7605\n",
      "Epoch 7/55\n",
      "250/250 [==============================] - 139s 555ms/step - loss: 1.2670 - accuracy: 0.8393 - val_loss: 1.8232 - val_accuracy: 0.7624\n",
      "Epoch 8/55\n",
      "250/250 [==============================] - 139s 555ms/step - loss: 1.2544 - accuracy: 0.8409 - val_loss: 1.8059 - val_accuracy: 0.7684\n",
      "Epoch 9/55\n",
      "250/250 [==============================] - 138s 553ms/step - loss: 1.2401 - accuracy: 0.8431 - val_loss: 1.7982 - val_accuracy: 0.7667\n",
      "Epoch 10/55\n",
      "250/250 [==============================] - 138s 552ms/step - loss: 1.2290 - accuracy: 0.8447 - val_loss: 1.7888 - val_accuracy: 0.7693\n",
      "Epoch 11/55\n",
      "250/250 [==============================] - 138s 551ms/step - loss: 1.2179 - accuracy: 0.8455 - val_loss: 1.7596 - val_accuracy: 0.7730\n",
      "Epoch 12/55\n",
      "250/250 [==============================] - 138s 554ms/step - loss: 1.2034 - accuracy: 0.8464 - val_loss: 1.7403 - val_accuracy: 0.7765\n",
      "Epoch 13/55\n",
      "250/250 [==============================] - 138s 552ms/step - loss: 1.1942 - accuracy: 0.8478 - val_loss: 1.7218 - val_accuracy: 0.7777\n",
      "Epoch 14/55\n",
      "250/250 [==============================] - 139s 555ms/step - loss: 1.1795 - accuracy: 0.8494 - val_loss: 1.7034 - val_accuracy: 0.7817\n",
      "Epoch 15/55\n",
      "250/250 [==============================] - 138s 553ms/step - loss: 1.1646 - accuracy: 0.8513 - val_loss: 1.6950 - val_accuracy: 0.7826\n",
      "Epoch 16/55\n",
      "250/250 [==============================] - 139s 556ms/step - loss: 1.1538 - accuracy: 0.8530 - val_loss: 1.6717 - val_accuracy: 0.7867\n",
      "Epoch 17/55\n",
      "250/250 [==============================] - 138s 553ms/step - loss: 1.1403 - accuracy: 0.8552 - val_loss: 1.6600 - val_accuracy: 0.7900\n",
      "Epoch 18/55\n",
      "250/250 [==============================] - 138s 553ms/step - loss: 1.1281 - accuracy: 0.8562 - val_loss: 1.6536 - val_accuracy: 0.7915\n",
      "Epoch 19/55\n",
      "250/250 [==============================] - 139s 554ms/step - loss: 1.1165 - accuracy: 0.8581 - val_loss: 1.6283 - val_accuracy: 0.7938\n",
      "Epoch 20/55\n",
      "250/250 [==============================] - 138s 554ms/step - loss: 1.1043 - accuracy: 0.8598 - val_loss: 1.6261 - val_accuracy: 0.7954\n",
      "Epoch 21/55\n",
      "250/250 [==============================] - 139s 556ms/step - loss: 1.0928 - accuracy: 0.8615 - val_loss: 1.6062 - val_accuracy: 0.7973\n",
      "Epoch 22/55\n",
      "250/250 [==============================] - 137s 547ms/step - loss: 1.0802 - accuracy: 0.8633 - val_loss: 1.5998 - val_accuracy: 0.7998\n",
      "Epoch 23/55\n",
      "250/250 [==============================] - 138s 553ms/step - loss: 1.0709 - accuracy: 0.8644 - val_loss: 1.5944 - val_accuracy: 0.8008\n",
      "Epoch 24/55\n",
      "250/250 [==============================] - 140s 561ms/step - loss: 1.0617 - accuracy: 0.8661 - val_loss: 1.5752 - val_accuracy: 0.8020\n",
      "Epoch 25/55\n",
      "250/250 [==============================] - 140s 561ms/step - loss: 1.0578 - accuracy: 0.8663 - val_loss: 1.5546 - val_accuracy: 0.8048\n",
      "Epoch 26/55\n",
      "250/250 [==============================] - 139s 558ms/step - loss: 1.0452 - accuracy: 0.8682 - val_loss: 1.5621 - val_accuracy: 0.8058\n",
      "Epoch 27/55\n",
      "250/250 [==============================] - 140s 559ms/step - loss: 1.0369 - accuracy: 0.8692 - val_loss: 1.5543 - val_accuracy: 0.8057\n",
      "Epoch 28/55\n",
      "250/250 [==============================] - 139s 558ms/step - loss: 1.0324 - accuracy: 0.8697 - val_loss: 1.5452 - val_accuracy: 0.8078\n",
      "Epoch 29/55\n",
      "250/250 [==============================] - 139s 558ms/step - loss: 1.0239 - accuracy: 0.8706 - val_loss: 1.5306 - val_accuracy: 0.8078\n",
      "Epoch 30/55\n",
      "250/250 [==============================] - 137s 549ms/step - loss: 1.0157 - accuracy: 0.8714 - val_loss: 1.5345 - val_accuracy: 0.8094\n",
      "Epoch 31/55\n",
      "250/250 [==============================] - 139s 556ms/step - loss: 1.0047 - accuracy: 0.8730 - val_loss: 1.5150 - val_accuracy: 0.8111\n",
      "Epoch 32/55\n",
      "250/250 [==============================] - 138s 552ms/step - loss: 1.0004 - accuracy: 0.8738 - val_loss: 1.5205 - val_accuracy: 0.8121\n",
      "Epoch 33/55\n",
      "250/250 [==============================] - 138s 553ms/step - loss: 0.9950 - accuracy: 0.8746 - val_loss: 1.5228 - val_accuracy: 0.8118\n",
      "Epoch 34/55\n",
      "250/250 [==============================] - 139s 554ms/step - loss: 0.9889 - accuracy: 0.8752 - val_loss: 1.5146 - val_accuracy: 0.8119\n",
      "Epoch 35/55\n",
      "250/250 [==============================] - 138s 551ms/step - loss: 0.9841 - accuracy: 0.8754 - val_loss: 1.4985 - val_accuracy: 0.8137\n",
      "Epoch 36/55\n",
      "250/250 [==============================] - 138s 552ms/step - loss: 0.9756 - accuracy: 0.8768 - val_loss: 1.4942 - val_accuracy: 0.8136\n",
      "Epoch 37/55\n",
      "250/250 [==============================] - 137s 550ms/step - loss: 0.9727 - accuracy: 0.8769 - val_loss: 1.4953 - val_accuracy: 0.8148\n",
      "Epoch 38/55\n",
      "250/250 [==============================] - 138s 551ms/step - loss: 0.9640 - accuracy: 0.8779 - val_loss: 1.5130 - val_accuracy: 0.8135\n",
      "Epoch 39/55\n",
      "250/250 [==============================] - 138s 551ms/step - loss: 0.9617 - accuracy: 0.8783 - val_loss: 1.5028 - val_accuracy: 0.8151\n",
      "Epoch 40/55\n",
      "250/250 [==============================] - 138s 552ms/step - loss: 0.9559 - accuracy: 0.8788 - val_loss: 1.5053 - val_accuracy: 0.8154\n",
      "Epoch 41/55\n",
      "250/250 [==============================] - 138s 552ms/step - loss: 0.9486 - accuracy: 0.8800 - val_loss: 1.5014 - val_accuracy: 0.8169\n",
      "Epoch 42/55\n",
      "250/250 [==============================] - 138s 552ms/step - loss: 0.9435 - accuracy: 0.8807 - val_loss: 1.4984 - val_accuracy: 0.8164\n",
      "Epoch 43/55\n",
      "250/250 [==============================] - 139s 556ms/step - loss: 0.9436 - accuracy: 0.8804 - val_loss: 1.4908 - val_accuracy: 0.8171\n",
      "Epoch 44/55\n",
      "250/250 [==============================] - 140s 560ms/step - loss: 0.9398 - accuracy: 0.8812 - val_loss: 1.5023 - val_accuracy: 0.8170\n",
      "Epoch 45/55\n",
      "250/250 [==============================] - 139s 557ms/step - loss: 0.9345 - accuracy: 0.8816 - val_loss: 1.4893 - val_accuracy: 0.8178\n",
      "Epoch 46/55\n",
      "250/250 [==============================] - 137s 547ms/step - loss: 0.9279 - accuracy: 0.8823 - val_loss: 1.4794 - val_accuracy: 0.8180\n",
      "Epoch 47/55\n",
      "250/250 [==============================] - 137s 548ms/step - loss: 0.9229 - accuracy: 0.8832 - val_loss: 1.4856 - val_accuracy: 0.8188\n",
      "Epoch 48/55\n",
      "250/250 [==============================] - 136s 545ms/step - loss: 0.9227 - accuracy: 0.8834 - val_loss: 1.4918 - val_accuracy: 0.8188\n",
      "Epoch 49/55\n",
      "250/250 [==============================] - 137s 550ms/step - loss: 0.9154 - accuracy: 0.8838 - val_loss: 1.4778 - val_accuracy: 0.8187\n",
      "Epoch 50/55\n",
      "250/250 [==============================] - 137s 548ms/step - loss: 0.9116 - accuracy: 0.8842 - val_loss: 1.4966 - val_accuracy: 0.8193\n",
      "Epoch 51/55\n",
      "250/250 [==============================] - 136s 546ms/step - loss: 0.9119 - accuracy: 0.8842 - val_loss: 1.4818 - val_accuracy: 0.8201\n",
      "Epoch 52/55\n",
      "250/250 [==============================] - 139s 556ms/step - loss: 0.9037 - accuracy: 0.8849 - val_loss: 1.4935 - val_accuracy: 0.8203\n",
      "Epoch 53/55\n",
      "250/250 [==============================] - 138s 554ms/step - loss: 0.9024 - accuracy: 0.8852 - val_loss: 1.4905 - val_accuracy: 0.8191\n",
      "Epoch 54/55\n",
      "250/250 [==============================] - 139s 555ms/step - loss: 0.8984 - accuracy: 0.8861 - val_loss: 1.4984 - val_accuracy: 0.8195\n",
      "Epoch 55/55\n",
      "250/250 [==============================] - 136s 543ms/step - loss: 0.8933 - accuracy: 0.8863 - val_loss: 1.4952 - val_accuracy: 0.8205\n"
     ]
    }
   ],
   "source": [
    "epochs = 55\n",
    "batch_size = 128\n",
    "\n",
    "#callback = EarlyStopping(monitor='val_accuracy', patience=4) #Was turned off since model was improving gradually\n",
    "\n",
    "training_model = Model([encoder_inputs, decoder_inputs], decoder_outputs)\n",
    "\n",
    "training_model.compile(optimizer='rmsprop', loss='categorical_crossentropy', metrics=['accuracy'], sample_weight_mode='temporal')\n",
    "\n",
    "#Turn checkpoint on so that interim model run results can be used if system crashes, saved every 5 epochs\n",
    "model_checkpoint= ModelCheckpoint('./models/endspan{epoch:02d}.h5',period=5,save_weights_only=False)\n",
    "\n",
    "history = training_model.fit([encoder_input_data, decoder_input_data], decoder_target_data, \n",
    "                    batch_size = batch_size, \n",
    "                    epochs = epochs, \n",
    "                    callbacks=[model_checkpoint],         \n",
    "                    validation_split = 0.2)\n",
    "                    #callbacks = callback)\n"
   ]
  },
  {
   "cell_type": "code",
   "execution_count": 28,
   "metadata": {},
   "outputs": [],
   "source": [
    "#Saving the model so we can use later\n",
    "#tf.saved_model.save(training_model, './models/')\n",
    "training_model.save('./models/training_model_gcp.h5')"
   ]
  },
  {
   "cell_type": "code",
   "execution_count": 42,
   "metadata": {},
   "outputs": [
    {
     "name": "stdout",
     "output_type": "stream",
     "text": [
      "Epoch 1/25\n",
      "188/188 [==============================] - 86s 456ms/step - loss: 1.1182 - accuracy: 0.8581 - val_loss: 1.5673 - val_accuracy: 0.8029\n",
      "Epoch 2/25\n",
      "188/188 [==============================] - 82s 437ms/step - loss: 1.1119 - accuracy: 0.8590 - val_loss: 1.5537 - val_accuracy: 0.8037\n",
      "Epoch 3/25\n",
      "188/188 [==============================] - 83s 439ms/step - loss: 1.1045 - accuracy: 0.8601 - val_loss: 1.5519 - val_accuracy: 0.8063\n",
      "Epoch 4/25\n",
      "188/188 [==============================] - 82s 435ms/step - loss: 1.0984 - accuracy: 0.8611 - val_loss: 1.5433 - val_accuracy: 0.8067\n",
      "Epoch 5/25\n",
      "188/188 [==============================] - 82s 436ms/step - loss: 1.0927 - accuracy: 0.8619 - val_loss: 1.5340 - val_accuracy: 0.8080\n",
      "Epoch 6/25\n",
      "188/188 [==============================] - 82s 435ms/step - loss: 1.0863 - accuracy: 0.8627 - val_loss: 1.5410 - val_accuracy: 0.8072\n",
      "Epoch 7/25\n",
      "188/188 [==============================] - 82s 436ms/step - loss: 1.0806 - accuracy: 0.8634 - val_loss: 1.5294 - val_accuracy: 0.8074\n",
      "Epoch 8/25\n",
      "188/188 [==============================] - 82s 437ms/step - loss: 1.0752 - accuracy: 0.8641 - val_loss: 1.5177 - val_accuracy: 0.8105\n",
      "Epoch 9/25\n",
      "188/188 [==============================] - 82s 437ms/step - loss: 1.0692 - accuracy: 0.8649 - val_loss: 1.5041 - val_accuracy: 0.8124\n",
      "Epoch 10/25\n",
      "188/188 [==============================] - 82s 437ms/step - loss: 1.0639 - accuracy: 0.8657 - val_loss: 1.5186 - val_accuracy: 0.8115\n",
      "Epoch 11/25\n",
      "188/188 [==============================] - 82s 438ms/step - loss: 1.0588 - accuracy: 0.8665 - val_loss: 1.5112 - val_accuracy: 0.8123\n",
      "Epoch 12/25\n",
      "188/188 [==============================] - 83s 441ms/step - loss: 1.0540 - accuracy: 0.8672 - val_loss: 1.5202 - val_accuracy: 0.8133\n",
      "Epoch 13/25\n",
      "188/188 [==============================] - 82s 436ms/step - loss: 1.0497 - accuracy: 0.8674 - val_loss: 1.5072 - val_accuracy: 0.8128\n",
      "Epoch 14/25\n",
      "188/188 [==============================] - 82s 437ms/step - loss: 1.0442 - accuracy: 0.8681 - val_loss: 1.4982 - val_accuracy: 0.8147\n",
      "Epoch 15/25\n",
      "188/188 [==============================] - 82s 439ms/step - loss: 1.0400 - accuracy: 0.8687 - val_loss: 1.5082 - val_accuracy: 0.8129\n",
      "Epoch 16/25\n",
      "188/188 [==============================] - 82s 437ms/step - loss: 1.0359 - accuracy: 0.8693 - val_loss: 1.5140 - val_accuracy: 0.8149\n",
      "Epoch 17/25\n",
      "188/188 [==============================] - 82s 437ms/step - loss: 1.0314 - accuracy: 0.8698 - val_loss: 1.4825 - val_accuracy: 0.8155\n",
      "Epoch 18/25\n",
      "188/188 [==============================] - 82s 439ms/step - loss: 1.0275 - accuracy: 0.8704 - val_loss: 1.5036 - val_accuracy: 0.8159\n",
      "Epoch 19/25\n",
      "188/188 [==============================] - 82s 437ms/step - loss: 1.0229 - accuracy: 0.8709 - val_loss: 1.5133 - val_accuracy: 0.8147\n",
      "Epoch 20/25\n",
      "188/188 [==============================] - 82s 438ms/step - loss: 1.0189 - accuracy: 0.8713 - val_loss: 1.4966 - val_accuracy: 0.8172\n",
      "Epoch 21/25\n",
      "188/188 [==============================] - 82s 437ms/step - loss: 1.0148 - accuracy: 0.8719 - val_loss: 1.4987 - val_accuracy: 0.8170\n",
      "Epoch 22/25\n",
      "188/188 [==============================] - 82s 439ms/step - loss: 1.0108 - accuracy: 0.8722 - val_loss: 1.4808 - val_accuracy: 0.8182\n",
      "Epoch 23/25\n",
      "188/188 [==============================] - 82s 439ms/step - loss: 1.0067 - accuracy: 0.8726 - val_loss: 1.4889 - val_accuracy: 0.8183\n",
      "Epoch 24/25\n",
      "188/188 [==============================] - 82s 438ms/step - loss: 1.0033 - accuracy: 0.8731 - val_loss: 1.5017 - val_accuracy: 0.8181\n",
      "Epoch 25/25\n",
      "188/188 [==============================] - 82s 436ms/step - loss: 0.9996 - accuracy: 0.8734 - val_loss: 1.5067 - val_accuracy: 0.8181\n"
     ]
    }
   ],
   "source": [
    "epochs = 25\n",
    "history2 = training_model.fit([encoder_input_data, decoder_input_data], decoder_target_data, \n",
    "                    batch_size = batch_size, \n",
    "                    epochs = epochs, \n",
    "                    callbacks=[model_checkpoint],         \n",
    "                    validation_split = 0.2)\n",
    "                    #callbacks = callback)\n"
   ]
  },
  {
   "cell_type": "code",
   "execution_count": 60,
   "metadata": {},
   "outputs": [
    {
     "name": "stdout",
     "output_type": "stream",
     "text": [
      "Epoch 1/5\n",
      "113/113 [==============================] - 98s 866ms/step - loss: 0.9218 - accuracy: 0.8740 - val_loss: 1.6873 - val_accuracy: 0.7930\n",
      "Epoch 2/5\n",
      "113/113 [==============================] - 92s 816ms/step - loss: 0.9112 - accuracy: 0.8761 - val_loss: 1.6799 - val_accuracy: 0.7964\n",
      "Epoch 3/5\n",
      "113/113 [==============================] - 91s 805ms/step - loss: 0.8998 - accuracy: 0.8779 - val_loss: 1.6775 - val_accuracy: 0.7953\n",
      "Epoch 4/5\n",
      "113/113 [==============================] - 90s 795ms/step - loss: 0.8890 - accuracy: 0.8803 - val_loss: 1.6806 - val_accuracy: 0.7958\n",
      "Epoch 5/5\n",
      "113/113 [==============================] - 90s 795ms/step - loss: 0.8796 - accuracy: 0.8816 - val_loss: 1.6793 - val_accuracy: 0.7944\n"
     ]
    }
   ],
   "source": [
    "epochs = 5\n",
    "history3 = training_model.fit([encoder_input_data, decoder_input_data], decoder_target_data, \n",
    "                    batch_size = batch_size, \n",
    "                    epochs = epochs, \n",
    "                    callbacks=[model_checkpoint],         \n",
    "                    validation_split = 0.2)\n",
    "                    #callbacks = callback)\n"
   ]
  },
  {
   "cell_type": "code",
   "execution_count": null,
   "metadata": {},
   "outputs": [],
   "source": []
  },
  {
   "cell_type": "code",
   "execution_count": 43,
   "metadata": {},
   "outputs": [],
   "source": [
    "#Saving the model so we can use later\n",
    "#tf.saved_model.save(training_model, './models/')\n",
    "training_model.save('./models/training_model_gcp.h5')\n"
   ]
  },
  {
   "cell_type": "code",
   "execution_count": 29,
   "metadata": {},
   "outputs": [
    {
     "data": {
      "image/png": "[encoded data removed]",
      "text/plain": [
       "<Figure size 432x288 with 1 Axes>"
      ]
     },
     "metadata": {
      "needs_background": "light"
     },
     "output_type": "display_data"
    }
   ],
   "source": [
    "plt.plot(history.history['accuracy'], label='Train')\n",
    "plt.plot(history.history['val_accuracy'], label='Validation')\n",
    "plt.legend()\n",
    "plt.title('Accuracy');"
   ]
  },
  {
   "cell_type": "code",
   "execution_count": 30,
   "metadata": {},
   "outputs": [
    {
     "ename": "NameError",
     "evalue": "name 'history2' is not defined",
     "output_type": "error",
     "traceback": [
      "\u001b[0;31m---------------------------------------------------------------------------\u001b[0m",
      "\u001b[0;31mNameError\u001b[0m                                 Traceback (most recent call last)",
      "\u001b[0;32m<ipython-input-30-5a678eae4868>\u001b[0m in \u001b[0;36m<module>\u001b[0;34m\u001b[0m\n\u001b[0;32m----> 1\u001b[0;31m \u001b[0mplt\u001b[0m\u001b[0;34m.\u001b[0m\u001b[0mplot\u001b[0m\u001b[0;34m(\u001b[0m\u001b[0mhistory2\u001b[0m\u001b[0;34m.\u001b[0m\u001b[0mhistory\u001b[0m\u001b[0;34m[\u001b[0m\u001b[0;34m'accuracy'\u001b[0m\u001b[0;34m]\u001b[0m\u001b[0;34m,\u001b[0m \u001b[0mlabel\u001b[0m\u001b[0;34m=\u001b[0m\u001b[0;34m'Train'\u001b[0m\u001b[0;34m)\u001b[0m\u001b[0;34m\u001b[0m\u001b[0;34m\u001b[0m\u001b[0m\n\u001b[0m\u001b[1;32m      2\u001b[0m \u001b[0mplt\u001b[0m\u001b[0;34m.\u001b[0m\u001b[0mplot\u001b[0m\u001b[0;34m(\u001b[0m\u001b[0mhistory2\u001b[0m\u001b[0;34m.\u001b[0m\u001b[0mhistory\u001b[0m\u001b[0;34m[\u001b[0m\u001b[0;34m'val_accuracy'\u001b[0m\u001b[0;34m]\u001b[0m\u001b[0;34m,\u001b[0m \u001b[0mlabel\u001b[0m\u001b[0;34m=\u001b[0m\u001b[0;34m'Validation'\u001b[0m\u001b[0;34m)\u001b[0m\u001b[0;34m\u001b[0m\u001b[0;34m\u001b[0m\u001b[0m\n\u001b[1;32m      3\u001b[0m \u001b[0mplt\u001b[0m\u001b[0;34m.\u001b[0m\u001b[0mlegend\u001b[0m\u001b[0;34m(\u001b[0m\u001b[0;34m)\u001b[0m\u001b[0;34m\u001b[0m\u001b[0;34m\u001b[0m\u001b[0m\n\u001b[1;32m      4\u001b[0m \u001b[0mplt\u001b[0m\u001b[0;34m.\u001b[0m\u001b[0mtitle\u001b[0m\u001b[0;34m(\u001b[0m\u001b[0;34m'Accuracy'\u001b[0m\u001b[0;34m)\u001b[0m\u001b[0;34m;\u001b[0m\u001b[0;34m\u001b[0m\u001b[0;34m\u001b[0m\u001b[0m\n",
      "\u001b[0;31mNameError\u001b[0m: name 'history2' is not defined"
     ]
    }
   ],
   "source": [
    "plt.plot(history2.history['accuracy'], label='Train')\n",
    "plt.plot(history2.history['val_accuracy'], label='Validation')\n",
    "plt.legend()\n",
    "plt.title('Accuracy');"
   ]
  },
  {
   "cell_type": "code",
   "execution_count": 31,
   "metadata": {},
   "outputs": [
    {
     "data": {
      "image/png": "[encoded data removed]",
      "text/plain": [
       "<Figure size 432x288 with 1 Axes>"
      ]
     },
     "metadata": {
      "needs_background": "light"
     },
     "output_type": "display_data"
    }
   ],
   "source": [
    "plt.plot(history.history['loss'], label='Train')\n",
    "plt.plot(history.history['val_loss'], label='Validation')\n",
    "plt.legend()\n",
    "plt.title('Loss');"
   ]
  },
  {
   "cell_type": "code",
   "execution_count": 46,
   "metadata": {},
   "outputs": [
    {
     "data": {
      "image/png": "[encoded data removed]",
      "text/plain": [
       "<Figure size 432x288 with 1 Axes>"
      ]
     },
     "metadata": {
      "needs_background": "light"
     },
     "output_type": "display_data"
    }
   ],
   "source": [
    "plt.plot(history2.history['loss'], label='Train')\n",
    "plt.plot(history2.history['val_loss'], label='Validation')\n",
    "plt.legend()\n",
    "plt.title('Loss');"
   ]
  },
  {
   "cell_type": "code",
   "execution_count": 32,
   "metadata": {},
   "outputs": [],
   "source": [
    "from tensorflow.keras.models import Model, load_model\n",
    "\n",
    "#training_model = load_model('training_model_v2.h5')\n",
    "\n",
    "encoder_inputs = training_model.input[0]\n",
    "encoder_outputs, state_h_enc, state_c_enc = training_model.layers[2].output\n",
    "encoder_states = [state_h_enc, state_c_enc]\n",
    "\n",
    "encoder_model = Model(encoder_inputs, encoder_states)\n",
    "\n",
    "latent_dim = 256\n",
    "decoder_state_input_hidden = Input(shape=(latent_dim,))\n",
    "decoder_state_input_cell = Input(shape=(latent_dim,))\n",
    "decoder_states_inputs = [decoder_state_input_hidden, decoder_state_input_cell]\n",
    "decoder_outputs, state_hidden, state_cell = decoder_lstm(decoder_inputs, initial_state=decoder_states_inputs)\n",
    "decoder_states = [state_hidden, state_cell]\n",
    "decoder_outputs = decoder_dense(decoder_outputs)\n",
    "\n",
    "decoder_model = Model([decoder_inputs] + decoder_states_inputs, [decoder_outputs] + decoder_states)"
   ]
  },
  {
   "cell_type": "code",
   "execution_count": 33,
   "metadata": {},
   "outputs": [],
   "source": [
    "def string_to_matrix(user_input):\n",
    "    '''This function takes in a string and outputs the corresponding matrix'''\n",
    "    tokens = re.findall(r\"[\\w']+|[^\\s\\w]\", user_input)\n",
    "    user_input_matrix = np.zeros((1, max_encoder_seq_length, num_encoder_tokens), dtype='float32')\n",
    "    for timestep, token in enumerate(tokens):\n",
    "        if token in input_features_dict:\n",
    "            user_input_matrix[0, timestep, input_features_dict[token]] = 1.\n",
    "    return user_input_matrix"
   ]
  },
  {
   "cell_type": "code",
   "execution_count": 34,
   "metadata": {},
   "outputs": [
    {
     "name": "stdout",
     "output_type": "stream",
     "text": [
      "Model: \"model\"\n",
      "__________________________________________________________________________________________________\n",
      "Layer (type)                    Output Shape         Param #     Connected to                     \n",
      "==================================================================================================\n",
      "input_1 (InputLayer)            [(None, None, 4872)] 0                                            \n",
      "__________________________________________________________________________________________________\n",
      "input_2 (InputLayer)            [(None, None, 6030)] 0                                            \n",
      "__________________________________________________________________________________________________\n",
      "lstm (LSTM)                     [(None, 256), (None, 5252096     input_1[0][0]                    \n",
      "__________________________________________________________________________________________________\n",
      "lstm_1 (LSTM)                   [(None, None, 256),  6437888     input_2[0][0]                    \n",
      "                                                                 lstm[0][1]                       \n",
      "                                                                 lstm[0][2]                       \n",
      "__________________________________________________________________________________________________\n",
      "dense (Dense)                   (None, None, 6030)   1549710     lstm_1[0][0]                     \n",
      "==================================================================================================\n",
      "Total params: 13,239,694\n",
      "Trainable params: 13,239,694\n",
      "Non-trainable params: 0\n",
      "__________________________________________________________________________________________________\n"
     ]
    }
   ],
   "source": [
    "training_model.summary()"
   ]
  },
  {
   "cell_type": "code",
   "execution_count": 35,
   "metadata": {},
   "outputs": [],
   "source": [
    "def decode_sequence(test_input):\n",
    "    '''This function takes in a sentence and returns the decoded sentence'''\n",
    "    \n",
    "    # Encode the input as state vectors.\n",
    "    states_value = encoder_model.predict(string_to_matrix(test_input))\n",
    "\n",
    "    # Generate empty target sequence of length 1.\n",
    "    target_seq = np.zeros((1, 1, num_decoder_tokens))\n",
    "    # Populate the first token of target sequence with the start token.\n",
    "    target_seq[0, 0, target_features_dict['<START>']] = 1.\n",
    "\n",
    "    # Sampling loop for a batch of sequences\n",
    "    decoded_sentence = ''\n",
    "\n",
    "    stop_condition = False\n",
    "    while not stop_condition:\n",
    "        # Run the decoder model to get possible output tokens (with probabilities) & states\n",
    "        output_tokens, hidden_state, cell_state = decoder_model.predict([target_seq] + states_value)\n",
    "\n",
    "        # Choose token with highest probability and append it to decoded sentence\n",
    "        sampled_token_index = np.argmax(output_tokens[0, -1, :])\n",
    "        sampled_token = reverse_target_features_dict[sampled_token_index]\n",
    "        decoded_sentence += \" \" + sampled_token\n",
    "\n",
    "        # Exit condition: either hit max length or find stop token.\n",
    "        if (sampled_token == '<END>' or len(decoded_sentence) > max_decoder_seq_length):\n",
    "            stop_condition = True\n",
    "\n",
    "        # Update the target sequence (of length 1).\n",
    "        target_seq = np.zeros((1, 1, num_decoder_tokens))\n",
    "        target_seq[0, 0, sampled_token_index] = 1.\n",
    "\n",
    "        # Update states\n",
    "        states_value = [hidden_state, cell_state]\n",
    "\n",
    "    return decoded_sentence"
   ]
  },
  {
   "cell_type": "code",
   "execution_count": null,
   "metadata": {},
   "outputs": [],
   "source": []
  },
  {
   "cell_type": "code",
   "execution_count": 36,
   "metadata": {},
   "outputs": [
    {
     "data": {
      "text/plain": [
       "' the <END>'"
      ]
     },
     "execution_count": 36,
     "metadata": {},
     "output_type": "execute_result"
    }
   ],
   "source": [
    "# Example decoded sentence\n",
    "decode_sequence('we are playing')"
   ]
  },
  {
   "cell_type": "code",
   "execution_count": 37,
   "metadata": {},
   "outputs": [
    {
     "data": {
      "text/plain": [
       "' good <END>'"
      ]
     },
     "execution_count": 37,
     "metadata": {},
     "output_type": "execute_result"
    }
   ],
   "source": [
    "# Example decoded sentence\n",
    "decode_sequence('it is ')"
   ]
  },
  {
   "cell_type": "code",
   "execution_count": 54,
   "metadata": {},
   "outputs": [
    {
     "data": {
      "text/plain": [
       "' to you <END>'"
      ]
     },
     "execution_count": 54,
     "metadata": {},
     "output_type": "execute_result"
    }
   ],
   "source": [
    "# Example decoded sentence\n",
    "decode_sequence('tomorrow is going')"
   ]
  },
  {
   "cell_type": "code",
   "execution_count": null,
   "metadata": {},
   "outputs": [],
   "source": []
  }
 ],
 "metadata": {
  "environment": {
   "name": "common-cu110.m65",
   "type": "gcloud",
   "uri": "gcr.io/deeplearning-platform-release/base-cu110:m65"
  },
  "kernelspec": {
   "display_name": "Python 3",
   "language": "python",
   "name": "python3"
  },
  "language_info": {
   "codemirror_mode": {
    "name": "ipython",
    "version": 3
   },
   "file_extension": ".py",
   "mimetype": "text/x-python",
   "name": "python",
   "nbconvert_exporter": "python",
   "pygments_lexer": "ipython3",
   "version": "3.8.5"
  }
 },
 "nbformat": 4,
 "nbformat_minor": 4
}
